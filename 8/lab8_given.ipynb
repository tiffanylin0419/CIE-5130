{
  "nbformat": 4,
  "nbformat_minor": 0,
  "metadata": {
    "colab": {
      "name": "lab8_given.ipynb",
      "provenance": [],
      "collapsed_sections": []
    },
    "kernelspec": {
      "name": "python3",
      "display_name": "Python 3"
    },
    "language_info": {
      "name": "python"
    },
    "widgets": {
      "application/vnd.jupyter.widget-state+json": {
        "45e61fd30f67441c91bb46417ad2979e": {
          "model_module": "@jupyter-widgets/controls",
          "model_name": "HBoxModel",
          "model_module_version": "1.5.0",
          "state": {
            "_dom_classes": [],
            "_model_module": "@jupyter-widgets/controls",
            "_model_module_version": "1.5.0",
            "_model_name": "HBoxModel",
            "_view_count": null,
            "_view_module": "@jupyter-widgets/controls",
            "_view_module_version": "1.5.0",
            "_view_name": "HBoxView",
            "box_style": "",
            "children": [
              "IPY_MODEL_da93df71675e48d081fc2863aa739484",
              "IPY_MODEL_8ee95cb3c1954daf9939e8497f96e290",
              "IPY_MODEL_db6e9eac388240a997c2bae48d4bf20e"
            ],
            "layout": "IPY_MODEL_0bf8ffe1086d4457ba2f14ab5c5c0774"
          }
        },
        "da93df71675e48d081fc2863aa739484": {
          "model_module": "@jupyter-widgets/controls",
          "model_name": "HTMLModel",
          "model_module_version": "1.5.0",
          "state": {
            "_dom_classes": [],
            "_model_module": "@jupyter-widgets/controls",
            "_model_module_version": "1.5.0",
            "_model_name": "HTMLModel",
            "_view_count": null,
            "_view_module": "@jupyter-widgets/controls",
            "_view_module_version": "1.5.0",
            "_view_name": "HTMLView",
            "description": "",
            "description_tooltip": null,
            "layout": "IPY_MODEL_6c73ee8c24d1491f8e321068e7673f49",
            "placeholder": "​",
            "style": "IPY_MODEL_3c9d1d6d2f57412a89aac18ca4bfcd41",
            "value": "100%"
          }
        },
        "8ee95cb3c1954daf9939e8497f96e290": {
          "model_module": "@jupyter-widgets/controls",
          "model_name": "FloatProgressModel",
          "model_module_version": "1.5.0",
          "state": {
            "_dom_classes": [],
            "_model_module": "@jupyter-widgets/controls",
            "_model_module_version": "1.5.0",
            "_model_name": "FloatProgressModel",
            "_view_count": null,
            "_view_module": "@jupyter-widgets/controls",
            "_view_module_version": "1.5.0",
            "_view_name": "ProgressView",
            "bar_style": "success",
            "description": "",
            "description_tooltip": null,
            "layout": "IPY_MODEL_5bef084baa974150abe50e1db4878ccb",
            "max": 200,
            "min": 0,
            "orientation": "horizontal",
            "style": "IPY_MODEL_d8ef194ebbcb48d5bd7709b3840a24b2",
            "value": 200
          }
        },
        "db6e9eac388240a997c2bae48d4bf20e": {
          "model_module": "@jupyter-widgets/controls",
          "model_name": "HTMLModel",
          "model_module_version": "1.5.0",
          "state": {
            "_dom_classes": [],
            "_model_module": "@jupyter-widgets/controls",
            "_model_module_version": "1.5.0",
            "_model_name": "HTMLModel",
            "_view_count": null,
            "_view_module": "@jupyter-widgets/controls",
            "_view_module_version": "1.5.0",
            "_view_name": "HTMLView",
            "description": "",
            "description_tooltip": null,
            "layout": "IPY_MODEL_f1e3c8529e8c44b18b85bc9b6662ffea",
            "placeholder": "​",
            "style": "IPY_MODEL_51ec12acfadd4246b6cb0fc139692d8d",
            "value": " 200/200 [00:00&lt;00:00, 648.13it/s]"
          }
        },
        "0bf8ffe1086d4457ba2f14ab5c5c0774": {
          "model_module": "@jupyter-widgets/base",
          "model_name": "LayoutModel",
          "model_module_version": "1.2.0",
          "state": {
            "_model_module": "@jupyter-widgets/base",
            "_model_module_version": "1.2.0",
            "_model_name": "LayoutModel",
            "_view_count": null,
            "_view_module": "@jupyter-widgets/base",
            "_view_module_version": "1.2.0",
            "_view_name": "LayoutView",
            "align_content": null,
            "align_items": null,
            "align_self": null,
            "border": null,
            "bottom": null,
            "display": null,
            "flex": null,
            "flex_flow": null,
            "grid_area": null,
            "grid_auto_columns": null,
            "grid_auto_flow": null,
            "grid_auto_rows": null,
            "grid_column": null,
            "grid_gap": null,
            "grid_row": null,
            "grid_template_areas": null,
            "grid_template_columns": null,
            "grid_template_rows": null,
            "height": null,
            "justify_content": null,
            "justify_items": null,
            "left": null,
            "margin": null,
            "max_height": null,
            "max_width": null,
            "min_height": null,
            "min_width": null,
            "object_fit": null,
            "object_position": null,
            "order": null,
            "overflow": null,
            "overflow_x": null,
            "overflow_y": null,
            "padding": null,
            "right": null,
            "top": null,
            "visibility": null,
            "width": null
          }
        },
        "6c73ee8c24d1491f8e321068e7673f49": {
          "model_module": "@jupyter-widgets/base",
          "model_name": "LayoutModel",
          "model_module_version": "1.2.0",
          "state": {
            "_model_module": "@jupyter-widgets/base",
            "_model_module_version": "1.2.0",
            "_model_name": "LayoutModel",
            "_view_count": null,
            "_view_module": "@jupyter-widgets/base",
            "_view_module_version": "1.2.0",
            "_view_name": "LayoutView",
            "align_content": null,
            "align_items": null,
            "align_self": null,
            "border": null,
            "bottom": null,
            "display": null,
            "flex": null,
            "flex_flow": null,
            "grid_area": null,
            "grid_auto_columns": null,
            "grid_auto_flow": null,
            "grid_auto_rows": null,
            "grid_column": null,
            "grid_gap": null,
            "grid_row": null,
            "grid_template_areas": null,
            "grid_template_columns": null,
            "grid_template_rows": null,
            "height": null,
            "justify_content": null,
            "justify_items": null,
            "left": null,
            "margin": null,
            "max_height": null,
            "max_width": null,
            "min_height": null,
            "min_width": null,
            "object_fit": null,
            "object_position": null,
            "order": null,
            "overflow": null,
            "overflow_x": null,
            "overflow_y": null,
            "padding": null,
            "right": null,
            "top": null,
            "visibility": null,
            "width": null
          }
        },
        "3c9d1d6d2f57412a89aac18ca4bfcd41": {
          "model_module": "@jupyter-widgets/controls",
          "model_name": "DescriptionStyleModel",
          "model_module_version": "1.5.0",
          "state": {
            "_model_module": "@jupyter-widgets/controls",
            "_model_module_version": "1.5.0",
            "_model_name": "DescriptionStyleModel",
            "_view_count": null,
            "_view_module": "@jupyter-widgets/base",
            "_view_module_version": "1.2.0",
            "_view_name": "StyleView",
            "description_width": ""
          }
        },
        "5bef084baa974150abe50e1db4878ccb": {
          "model_module": "@jupyter-widgets/base",
          "model_name": "LayoutModel",
          "model_module_version": "1.2.0",
          "state": {
            "_model_module": "@jupyter-widgets/base",
            "_model_module_version": "1.2.0",
            "_model_name": "LayoutModel",
            "_view_count": null,
            "_view_module": "@jupyter-widgets/base",
            "_view_module_version": "1.2.0",
            "_view_name": "LayoutView",
            "align_content": null,
            "align_items": null,
            "align_self": null,
            "border": null,
            "bottom": null,
            "display": null,
            "flex": null,
            "flex_flow": null,
            "grid_area": null,
            "grid_auto_columns": null,
            "grid_auto_flow": null,
            "grid_auto_rows": null,
            "grid_column": null,
            "grid_gap": null,
            "grid_row": null,
            "grid_template_areas": null,
            "grid_template_columns": null,
            "grid_template_rows": null,
            "height": null,
            "justify_content": null,
            "justify_items": null,
            "left": null,
            "margin": null,
            "max_height": null,
            "max_width": null,
            "min_height": null,
            "min_width": null,
            "object_fit": null,
            "object_position": null,
            "order": null,
            "overflow": null,
            "overflow_x": null,
            "overflow_y": null,
            "padding": null,
            "right": null,
            "top": null,
            "visibility": null,
            "width": null
          }
        },
        "d8ef194ebbcb48d5bd7709b3840a24b2": {
          "model_module": "@jupyter-widgets/controls",
          "model_name": "ProgressStyleModel",
          "model_module_version": "1.5.0",
          "state": {
            "_model_module": "@jupyter-widgets/controls",
            "_model_module_version": "1.5.0",
            "_model_name": "ProgressStyleModel",
            "_view_count": null,
            "_view_module": "@jupyter-widgets/base",
            "_view_module_version": "1.2.0",
            "_view_name": "StyleView",
            "bar_color": null,
            "description_width": ""
          }
        },
        "f1e3c8529e8c44b18b85bc9b6662ffea": {
          "model_module": "@jupyter-widgets/base",
          "model_name": "LayoutModel",
          "model_module_version": "1.2.0",
          "state": {
            "_model_module": "@jupyter-widgets/base",
            "_model_module_version": "1.2.0",
            "_model_name": "LayoutModel",
            "_view_count": null,
            "_view_module": "@jupyter-widgets/base",
            "_view_module_version": "1.2.0",
            "_view_name": "LayoutView",
            "align_content": null,
            "align_items": null,
            "align_self": null,
            "border": null,
            "bottom": null,
            "display": null,
            "flex": null,
            "flex_flow": null,
            "grid_area": null,
            "grid_auto_columns": null,
            "grid_auto_flow": null,
            "grid_auto_rows": null,
            "grid_column": null,
            "grid_gap": null,
            "grid_row": null,
            "grid_template_areas": null,
            "grid_template_columns": null,
            "grid_template_rows": null,
            "height": null,
            "justify_content": null,
            "justify_items": null,
            "left": null,
            "margin": null,
            "max_height": null,
            "max_width": null,
            "min_height": null,
            "min_width": null,
            "object_fit": null,
            "object_position": null,
            "order": null,
            "overflow": null,
            "overflow_x": null,
            "overflow_y": null,
            "padding": null,
            "right": null,
            "top": null,
            "visibility": null,
            "width": null
          }
        },
        "51ec12acfadd4246b6cb0fc139692d8d": {
          "model_module": "@jupyter-widgets/controls",
          "model_name": "DescriptionStyleModel",
          "model_module_version": "1.5.0",
          "state": {
            "_model_module": "@jupyter-widgets/controls",
            "_model_module_version": "1.5.0",
            "_model_name": "DescriptionStyleModel",
            "_view_count": null,
            "_view_module": "@jupyter-widgets/base",
            "_view_module_version": "1.2.0",
            "_view_name": "StyleView",
            "description_width": ""
          }
        },
        "d1cfe1b0de08459a9ab1fd8cf9f8234c": {
          "model_module": "@jupyter-widgets/controls",
          "model_name": "HBoxModel",
          "model_module_version": "1.5.0",
          "state": {
            "_dom_classes": [],
            "_model_module": "@jupyter-widgets/controls",
            "_model_module_version": "1.5.0",
            "_model_name": "HBoxModel",
            "_view_count": null,
            "_view_module": "@jupyter-widgets/controls",
            "_view_module_version": "1.5.0",
            "_view_name": "HBoxView",
            "box_style": "",
            "children": [
              "IPY_MODEL_f31c411a09d74706bd69355f7626698a",
              "IPY_MODEL_523db0e5a29b4869a9a3d54ee754337c",
              "IPY_MODEL_a7f88d2edfe543f09f3e990c31d05407"
            ],
            "layout": "IPY_MODEL_f555fd7fbf1a4c7f8a5925fb67f43f27"
          }
        },
        "f31c411a09d74706bd69355f7626698a": {
          "model_module": "@jupyter-widgets/controls",
          "model_name": "HTMLModel",
          "model_module_version": "1.5.0",
          "state": {
            "_dom_classes": [],
            "_model_module": "@jupyter-widgets/controls",
            "_model_module_version": "1.5.0",
            "_model_name": "HTMLModel",
            "_view_count": null,
            "_view_module": "@jupyter-widgets/controls",
            "_view_module_version": "1.5.0",
            "_view_name": "HTMLView",
            "description": "",
            "description_tooltip": null,
            "layout": "IPY_MODEL_c77d7c30561d46bc86d86f5475ea8e99",
            "placeholder": "​",
            "style": "IPY_MODEL_33428c38e2924cabad7d1e3cae1f3022",
            "value": "100%"
          }
        },
        "523db0e5a29b4869a9a3d54ee754337c": {
          "model_module": "@jupyter-widgets/controls",
          "model_name": "FloatProgressModel",
          "model_module_version": "1.5.0",
          "state": {
            "_dom_classes": [],
            "_model_module": "@jupyter-widgets/controls",
            "_model_module_version": "1.5.0",
            "_model_name": "FloatProgressModel",
            "_view_count": null,
            "_view_module": "@jupyter-widgets/controls",
            "_view_module_version": "1.5.0",
            "_view_name": "ProgressView",
            "bar_style": "success",
            "description": "",
            "description_tooltip": null,
            "layout": "IPY_MODEL_ab10da8d54d54e59890e2a741063fea8",
            "max": 200,
            "min": 0,
            "orientation": "horizontal",
            "style": "IPY_MODEL_c7d2d3a93ec84bdb8f5feca87440d6fc",
            "value": 200
          }
        },
        "a7f88d2edfe543f09f3e990c31d05407": {
          "model_module": "@jupyter-widgets/controls",
          "model_name": "HTMLModel",
          "model_module_version": "1.5.0",
          "state": {
            "_dom_classes": [],
            "_model_module": "@jupyter-widgets/controls",
            "_model_module_version": "1.5.0",
            "_model_name": "HTMLModel",
            "_view_count": null,
            "_view_module": "@jupyter-widgets/controls",
            "_view_module_version": "1.5.0",
            "_view_name": "HTMLView",
            "description": "",
            "description_tooltip": null,
            "layout": "IPY_MODEL_80137ee5df7f4aa58aba3795c2b0d19c",
            "placeholder": "​",
            "style": "IPY_MODEL_d0284b7b70d747d1a500c0b58c5e9833",
            "value": " 200/200 [00:00&lt;00:00, 3124.28it/s]"
          }
        },
        "f555fd7fbf1a4c7f8a5925fb67f43f27": {
          "model_module": "@jupyter-widgets/base",
          "model_name": "LayoutModel",
          "model_module_version": "1.2.0",
          "state": {
            "_model_module": "@jupyter-widgets/base",
            "_model_module_version": "1.2.0",
            "_model_name": "LayoutModel",
            "_view_count": null,
            "_view_module": "@jupyter-widgets/base",
            "_view_module_version": "1.2.0",
            "_view_name": "LayoutView",
            "align_content": null,
            "align_items": null,
            "align_self": null,
            "border": null,
            "bottom": null,
            "display": null,
            "flex": null,
            "flex_flow": null,
            "grid_area": null,
            "grid_auto_columns": null,
            "grid_auto_flow": null,
            "grid_auto_rows": null,
            "grid_column": null,
            "grid_gap": null,
            "grid_row": null,
            "grid_template_areas": null,
            "grid_template_columns": null,
            "grid_template_rows": null,
            "height": null,
            "justify_content": null,
            "justify_items": null,
            "left": null,
            "margin": null,
            "max_height": null,
            "max_width": null,
            "min_height": null,
            "min_width": null,
            "object_fit": null,
            "object_position": null,
            "order": null,
            "overflow": null,
            "overflow_x": null,
            "overflow_y": null,
            "padding": null,
            "right": null,
            "top": null,
            "visibility": null,
            "width": null
          }
        },
        "c77d7c30561d46bc86d86f5475ea8e99": {
          "model_module": "@jupyter-widgets/base",
          "model_name": "LayoutModel",
          "model_module_version": "1.2.0",
          "state": {
            "_model_module": "@jupyter-widgets/base",
            "_model_module_version": "1.2.0",
            "_model_name": "LayoutModel",
            "_view_count": null,
            "_view_module": "@jupyter-widgets/base",
            "_view_module_version": "1.2.0",
            "_view_name": "LayoutView",
            "align_content": null,
            "align_items": null,
            "align_self": null,
            "border": null,
            "bottom": null,
            "display": null,
            "flex": null,
            "flex_flow": null,
            "grid_area": null,
            "grid_auto_columns": null,
            "grid_auto_flow": null,
            "grid_auto_rows": null,
            "grid_column": null,
            "grid_gap": null,
            "grid_row": null,
            "grid_template_areas": null,
            "grid_template_columns": null,
            "grid_template_rows": null,
            "height": null,
            "justify_content": null,
            "justify_items": null,
            "left": null,
            "margin": null,
            "max_height": null,
            "max_width": null,
            "min_height": null,
            "min_width": null,
            "object_fit": null,
            "object_position": null,
            "order": null,
            "overflow": null,
            "overflow_x": null,
            "overflow_y": null,
            "padding": null,
            "right": null,
            "top": null,
            "visibility": null,
            "width": null
          }
        },
        "33428c38e2924cabad7d1e3cae1f3022": {
          "model_module": "@jupyter-widgets/controls",
          "model_name": "DescriptionStyleModel",
          "model_module_version": "1.5.0",
          "state": {
            "_model_module": "@jupyter-widgets/controls",
            "_model_module_version": "1.5.0",
            "_model_name": "DescriptionStyleModel",
            "_view_count": null,
            "_view_module": "@jupyter-widgets/base",
            "_view_module_version": "1.2.0",
            "_view_name": "StyleView",
            "description_width": ""
          }
        },
        "ab10da8d54d54e59890e2a741063fea8": {
          "model_module": "@jupyter-widgets/base",
          "model_name": "LayoutModel",
          "model_module_version": "1.2.0",
          "state": {
            "_model_module": "@jupyter-widgets/base",
            "_model_module_version": "1.2.0",
            "_model_name": "LayoutModel",
            "_view_count": null,
            "_view_module": "@jupyter-widgets/base",
            "_view_module_version": "1.2.0",
            "_view_name": "LayoutView",
            "align_content": null,
            "align_items": null,
            "align_self": null,
            "border": null,
            "bottom": null,
            "display": null,
            "flex": null,
            "flex_flow": null,
            "grid_area": null,
            "grid_auto_columns": null,
            "grid_auto_flow": null,
            "grid_auto_rows": null,
            "grid_column": null,
            "grid_gap": null,
            "grid_row": null,
            "grid_template_areas": null,
            "grid_template_columns": null,
            "grid_template_rows": null,
            "height": null,
            "justify_content": null,
            "justify_items": null,
            "left": null,
            "margin": null,
            "max_height": null,
            "max_width": null,
            "min_height": null,
            "min_width": null,
            "object_fit": null,
            "object_position": null,
            "order": null,
            "overflow": null,
            "overflow_x": null,
            "overflow_y": null,
            "padding": null,
            "right": null,
            "top": null,
            "visibility": null,
            "width": null
          }
        },
        "c7d2d3a93ec84bdb8f5feca87440d6fc": {
          "model_module": "@jupyter-widgets/controls",
          "model_name": "ProgressStyleModel",
          "model_module_version": "1.5.0",
          "state": {
            "_model_module": "@jupyter-widgets/controls",
            "_model_module_version": "1.5.0",
            "_model_name": "ProgressStyleModel",
            "_view_count": null,
            "_view_module": "@jupyter-widgets/base",
            "_view_module_version": "1.2.0",
            "_view_name": "StyleView",
            "bar_color": null,
            "description_width": ""
          }
        },
        "80137ee5df7f4aa58aba3795c2b0d19c": {
          "model_module": "@jupyter-widgets/base",
          "model_name": "LayoutModel",
          "model_module_version": "1.2.0",
          "state": {
            "_model_module": "@jupyter-widgets/base",
            "_model_module_version": "1.2.0",
            "_model_name": "LayoutModel",
            "_view_count": null,
            "_view_module": "@jupyter-widgets/base",
            "_view_module_version": "1.2.0",
            "_view_name": "LayoutView",
            "align_content": null,
            "align_items": null,
            "align_self": null,
            "border": null,
            "bottom": null,
            "display": null,
            "flex": null,
            "flex_flow": null,
            "grid_area": null,
            "grid_auto_columns": null,
            "grid_auto_flow": null,
            "grid_auto_rows": null,
            "grid_column": null,
            "grid_gap": null,
            "grid_row": null,
            "grid_template_areas": null,
            "grid_template_columns": null,
            "grid_template_rows": null,
            "height": null,
            "justify_content": null,
            "justify_items": null,
            "left": null,
            "margin": null,
            "max_height": null,
            "max_width": null,
            "min_height": null,
            "min_width": null,
            "object_fit": null,
            "object_position": null,
            "order": null,
            "overflow": null,
            "overflow_x": null,
            "overflow_y": null,
            "padding": null,
            "right": null,
            "top": null,
            "visibility": null,
            "width": null
          }
        },
        "d0284b7b70d747d1a500c0b58c5e9833": {
          "model_module": "@jupyter-widgets/controls",
          "model_name": "DescriptionStyleModel",
          "model_module_version": "1.5.0",
          "state": {
            "_model_module": "@jupyter-widgets/controls",
            "_model_module_version": "1.5.0",
            "_model_name": "DescriptionStyleModel",
            "_view_count": null,
            "_view_module": "@jupyter-widgets/base",
            "_view_module_version": "1.2.0",
            "_view_name": "StyleView",
            "description_width": ""
          }
        },
        "aad0906b18ac4d2e8dd8877902e3994f": {
          "model_module": "@jupyter-widgets/controls",
          "model_name": "HBoxModel",
          "model_module_version": "1.5.0",
          "state": {
            "_dom_classes": [],
            "_model_module": "@jupyter-widgets/controls",
            "_model_module_version": "1.5.0",
            "_model_name": "HBoxModel",
            "_view_count": null,
            "_view_module": "@jupyter-widgets/controls",
            "_view_module_version": "1.5.0",
            "_view_name": "HBoxView",
            "box_style": "",
            "children": [
              "IPY_MODEL_3913d4c59df240d3b6939a58645676e3",
              "IPY_MODEL_a6c48c1e060b4dfcaa3a3b89a3da6419",
              "IPY_MODEL_a3367b7665384816aa42fc35923429e5"
            ],
            "layout": "IPY_MODEL_c55f25dd440b41849d76afc21dbfd1c9"
          }
        },
        "3913d4c59df240d3b6939a58645676e3": {
          "model_module": "@jupyter-widgets/controls",
          "model_name": "HTMLModel",
          "model_module_version": "1.5.0",
          "state": {
            "_dom_classes": [],
            "_model_module": "@jupyter-widgets/controls",
            "_model_module_version": "1.5.0",
            "_model_name": "HTMLModel",
            "_view_count": null,
            "_view_module": "@jupyter-widgets/controls",
            "_view_module_version": "1.5.0",
            "_view_name": "HTMLView",
            "description": "",
            "description_tooltip": null,
            "layout": "IPY_MODEL_bc569fe6f1ae41358037253da02f2345",
            "placeholder": "​",
            "style": "IPY_MODEL_1ad6cdb330224465aeddc27062d10e0d",
            "value": "100%"
          }
        },
        "a6c48c1e060b4dfcaa3a3b89a3da6419": {
          "model_module": "@jupyter-widgets/controls",
          "model_name": "FloatProgressModel",
          "model_module_version": "1.5.0",
          "state": {
            "_dom_classes": [],
            "_model_module": "@jupyter-widgets/controls",
            "_model_module_version": "1.5.0",
            "_model_name": "FloatProgressModel",
            "_view_count": null,
            "_view_module": "@jupyter-widgets/controls",
            "_view_module_version": "1.5.0",
            "_view_name": "ProgressView",
            "bar_style": "success",
            "description": "",
            "description_tooltip": null,
            "layout": "IPY_MODEL_09dd1a8a99b44906975453794a5c1765",
            "max": 200,
            "min": 0,
            "orientation": "horizontal",
            "style": "IPY_MODEL_dcf85efa78504540a00a8466581947a0",
            "value": 200
          }
        },
        "a3367b7665384816aa42fc35923429e5": {
          "model_module": "@jupyter-widgets/controls",
          "model_name": "HTMLModel",
          "model_module_version": "1.5.0",
          "state": {
            "_dom_classes": [],
            "_model_module": "@jupyter-widgets/controls",
            "_model_module_version": "1.5.0",
            "_model_name": "HTMLModel",
            "_view_count": null,
            "_view_module": "@jupyter-widgets/controls",
            "_view_module_version": "1.5.0",
            "_view_name": "HTMLView",
            "description": "",
            "description_tooltip": null,
            "layout": "IPY_MODEL_88b4a2a399614cbdabc124e1ed978b70",
            "placeholder": "​",
            "style": "IPY_MODEL_46665731b4c24523838f9f487be2e3c5",
            "value": " 200/200 [00:00&lt;00:00, 2618.16it/s]"
          }
        },
        "c55f25dd440b41849d76afc21dbfd1c9": {
          "model_module": "@jupyter-widgets/base",
          "model_name": "LayoutModel",
          "model_module_version": "1.2.0",
          "state": {
            "_model_module": "@jupyter-widgets/base",
            "_model_module_version": "1.2.0",
            "_model_name": "LayoutModel",
            "_view_count": null,
            "_view_module": "@jupyter-widgets/base",
            "_view_module_version": "1.2.0",
            "_view_name": "LayoutView",
            "align_content": null,
            "align_items": null,
            "align_self": null,
            "border": null,
            "bottom": null,
            "display": null,
            "flex": null,
            "flex_flow": null,
            "grid_area": null,
            "grid_auto_columns": null,
            "grid_auto_flow": null,
            "grid_auto_rows": null,
            "grid_column": null,
            "grid_gap": null,
            "grid_row": null,
            "grid_template_areas": null,
            "grid_template_columns": null,
            "grid_template_rows": null,
            "height": null,
            "justify_content": null,
            "justify_items": null,
            "left": null,
            "margin": null,
            "max_height": null,
            "max_width": null,
            "min_height": null,
            "min_width": null,
            "object_fit": null,
            "object_position": null,
            "order": null,
            "overflow": null,
            "overflow_x": null,
            "overflow_y": null,
            "padding": null,
            "right": null,
            "top": null,
            "visibility": null,
            "width": null
          }
        },
        "bc569fe6f1ae41358037253da02f2345": {
          "model_module": "@jupyter-widgets/base",
          "model_name": "LayoutModel",
          "model_module_version": "1.2.0",
          "state": {
            "_model_module": "@jupyter-widgets/base",
            "_model_module_version": "1.2.0",
            "_model_name": "LayoutModel",
            "_view_count": null,
            "_view_module": "@jupyter-widgets/base",
            "_view_module_version": "1.2.0",
            "_view_name": "LayoutView",
            "align_content": null,
            "align_items": null,
            "align_self": null,
            "border": null,
            "bottom": null,
            "display": null,
            "flex": null,
            "flex_flow": null,
            "grid_area": null,
            "grid_auto_columns": null,
            "grid_auto_flow": null,
            "grid_auto_rows": null,
            "grid_column": null,
            "grid_gap": null,
            "grid_row": null,
            "grid_template_areas": null,
            "grid_template_columns": null,
            "grid_template_rows": null,
            "height": null,
            "justify_content": null,
            "justify_items": null,
            "left": null,
            "margin": null,
            "max_height": null,
            "max_width": null,
            "min_height": null,
            "min_width": null,
            "object_fit": null,
            "object_position": null,
            "order": null,
            "overflow": null,
            "overflow_x": null,
            "overflow_y": null,
            "padding": null,
            "right": null,
            "top": null,
            "visibility": null,
            "width": null
          }
        },
        "1ad6cdb330224465aeddc27062d10e0d": {
          "model_module": "@jupyter-widgets/controls",
          "model_name": "DescriptionStyleModel",
          "model_module_version": "1.5.0",
          "state": {
            "_model_module": "@jupyter-widgets/controls",
            "_model_module_version": "1.5.0",
            "_model_name": "DescriptionStyleModel",
            "_view_count": null,
            "_view_module": "@jupyter-widgets/base",
            "_view_module_version": "1.2.0",
            "_view_name": "StyleView",
            "description_width": ""
          }
        },
        "09dd1a8a99b44906975453794a5c1765": {
          "model_module": "@jupyter-widgets/base",
          "model_name": "LayoutModel",
          "model_module_version": "1.2.0",
          "state": {
            "_model_module": "@jupyter-widgets/base",
            "_model_module_version": "1.2.0",
            "_model_name": "LayoutModel",
            "_view_count": null,
            "_view_module": "@jupyter-widgets/base",
            "_view_module_version": "1.2.0",
            "_view_name": "LayoutView",
            "align_content": null,
            "align_items": null,
            "align_self": null,
            "border": null,
            "bottom": null,
            "display": null,
            "flex": null,
            "flex_flow": null,
            "grid_area": null,
            "grid_auto_columns": null,
            "grid_auto_flow": null,
            "grid_auto_rows": null,
            "grid_column": null,
            "grid_gap": null,
            "grid_row": null,
            "grid_template_areas": null,
            "grid_template_columns": null,
            "grid_template_rows": null,
            "height": null,
            "justify_content": null,
            "justify_items": null,
            "left": null,
            "margin": null,
            "max_height": null,
            "max_width": null,
            "min_height": null,
            "min_width": null,
            "object_fit": null,
            "object_position": null,
            "order": null,
            "overflow": null,
            "overflow_x": null,
            "overflow_y": null,
            "padding": null,
            "right": null,
            "top": null,
            "visibility": null,
            "width": null
          }
        },
        "dcf85efa78504540a00a8466581947a0": {
          "model_module": "@jupyter-widgets/controls",
          "model_name": "ProgressStyleModel",
          "model_module_version": "1.5.0",
          "state": {
            "_model_module": "@jupyter-widgets/controls",
            "_model_module_version": "1.5.0",
            "_model_name": "ProgressStyleModel",
            "_view_count": null,
            "_view_module": "@jupyter-widgets/base",
            "_view_module_version": "1.2.0",
            "_view_name": "StyleView",
            "bar_color": null,
            "description_width": ""
          }
        },
        "88b4a2a399614cbdabc124e1ed978b70": {
          "model_module": "@jupyter-widgets/base",
          "model_name": "LayoutModel",
          "model_module_version": "1.2.0",
          "state": {
            "_model_module": "@jupyter-widgets/base",
            "_model_module_version": "1.2.0",
            "_model_name": "LayoutModel",
            "_view_count": null,
            "_view_module": "@jupyter-widgets/base",
            "_view_module_version": "1.2.0",
            "_view_name": "LayoutView",
            "align_content": null,
            "align_items": null,
            "align_self": null,
            "border": null,
            "bottom": null,
            "display": null,
            "flex": null,
            "flex_flow": null,
            "grid_area": null,
            "grid_auto_columns": null,
            "grid_auto_flow": null,
            "grid_auto_rows": null,
            "grid_column": null,
            "grid_gap": null,
            "grid_row": null,
            "grid_template_areas": null,
            "grid_template_columns": null,
            "grid_template_rows": null,
            "height": null,
            "justify_content": null,
            "justify_items": null,
            "left": null,
            "margin": null,
            "max_height": null,
            "max_width": null,
            "min_height": null,
            "min_width": null,
            "object_fit": null,
            "object_position": null,
            "order": null,
            "overflow": null,
            "overflow_x": null,
            "overflow_y": null,
            "padding": null,
            "right": null,
            "top": null,
            "visibility": null,
            "width": null
          }
        },
        "46665731b4c24523838f9f487be2e3c5": {
          "model_module": "@jupyter-widgets/controls",
          "model_name": "DescriptionStyleModel",
          "model_module_version": "1.5.0",
          "state": {
            "_model_module": "@jupyter-widgets/controls",
            "_model_module_version": "1.5.0",
            "_model_name": "DescriptionStyleModel",
            "_view_count": null,
            "_view_module": "@jupyter-widgets/base",
            "_view_module_version": "1.2.0",
            "_view_name": "StyleView",
            "description_width": ""
          }
        },
        "830e7de7f7674f59bcd1cf96de9ec306": {
          "model_module": "@jupyter-widgets/controls",
          "model_name": "HBoxModel",
          "model_module_version": "1.5.0",
          "state": {
            "_dom_classes": [],
            "_model_module": "@jupyter-widgets/controls",
            "_model_module_version": "1.5.0",
            "_model_name": "HBoxModel",
            "_view_count": null,
            "_view_module": "@jupyter-widgets/controls",
            "_view_module_version": "1.5.0",
            "_view_name": "HBoxView",
            "box_style": "",
            "children": [
              "IPY_MODEL_3ae1b59db7d3460aa8baca0d023437e6",
              "IPY_MODEL_06fa2ee841104400b97bab41523a30d8",
              "IPY_MODEL_a88045b03b9f4db9b0e73a61b684931c"
            ],
            "layout": "IPY_MODEL_add2a505edca4d2c8d7d1ced0d685231"
          }
        },
        "3ae1b59db7d3460aa8baca0d023437e6": {
          "model_module": "@jupyter-widgets/controls",
          "model_name": "HTMLModel",
          "model_module_version": "1.5.0",
          "state": {
            "_dom_classes": [],
            "_model_module": "@jupyter-widgets/controls",
            "_model_module_version": "1.5.0",
            "_model_name": "HTMLModel",
            "_view_count": null,
            "_view_module": "@jupyter-widgets/controls",
            "_view_module_version": "1.5.0",
            "_view_name": "HTMLView",
            "description": "",
            "description_tooltip": null,
            "layout": "IPY_MODEL_4986fe882e624709abcf1a5c316fc2d1",
            "placeholder": "​",
            "style": "IPY_MODEL_590cdb9377c0479bb5396adfdc07b277",
            "value": "100%"
          }
        },
        "06fa2ee841104400b97bab41523a30d8": {
          "model_module": "@jupyter-widgets/controls",
          "model_name": "FloatProgressModel",
          "model_module_version": "1.5.0",
          "state": {
            "_dom_classes": [],
            "_model_module": "@jupyter-widgets/controls",
            "_model_module_version": "1.5.0",
            "_model_name": "FloatProgressModel",
            "_view_count": null,
            "_view_module": "@jupyter-widgets/controls",
            "_view_module_version": "1.5.0",
            "_view_name": "ProgressView",
            "bar_style": "success",
            "description": "",
            "description_tooltip": null,
            "layout": "IPY_MODEL_f43077b658ad4ab7bbe1aa727ea30038",
            "max": 200,
            "min": 0,
            "orientation": "horizontal",
            "style": "IPY_MODEL_efb619f7a3804169b2eee41ec087de68",
            "value": 200
          }
        },
        "a88045b03b9f4db9b0e73a61b684931c": {
          "model_module": "@jupyter-widgets/controls",
          "model_name": "HTMLModel",
          "model_module_version": "1.5.0",
          "state": {
            "_dom_classes": [],
            "_model_module": "@jupyter-widgets/controls",
            "_model_module_version": "1.5.0",
            "_model_name": "HTMLModel",
            "_view_count": null,
            "_view_module": "@jupyter-widgets/controls",
            "_view_module_version": "1.5.0",
            "_view_name": "HTMLView",
            "description": "",
            "description_tooltip": null,
            "layout": "IPY_MODEL_a44c05740a56493eba885fb5290f4b14",
            "placeholder": "​",
            "style": "IPY_MODEL_03a63459756b4a2bbcb645a7e2f86db0",
            "value": " 200/200 [00:00&lt;00:00, 2448.39it/s]"
          }
        },
        "add2a505edca4d2c8d7d1ced0d685231": {
          "model_module": "@jupyter-widgets/base",
          "model_name": "LayoutModel",
          "model_module_version": "1.2.0",
          "state": {
            "_model_module": "@jupyter-widgets/base",
            "_model_module_version": "1.2.0",
            "_model_name": "LayoutModel",
            "_view_count": null,
            "_view_module": "@jupyter-widgets/base",
            "_view_module_version": "1.2.0",
            "_view_name": "LayoutView",
            "align_content": null,
            "align_items": null,
            "align_self": null,
            "border": null,
            "bottom": null,
            "display": null,
            "flex": null,
            "flex_flow": null,
            "grid_area": null,
            "grid_auto_columns": null,
            "grid_auto_flow": null,
            "grid_auto_rows": null,
            "grid_column": null,
            "grid_gap": null,
            "grid_row": null,
            "grid_template_areas": null,
            "grid_template_columns": null,
            "grid_template_rows": null,
            "height": null,
            "justify_content": null,
            "justify_items": null,
            "left": null,
            "margin": null,
            "max_height": null,
            "max_width": null,
            "min_height": null,
            "min_width": null,
            "object_fit": null,
            "object_position": null,
            "order": null,
            "overflow": null,
            "overflow_x": null,
            "overflow_y": null,
            "padding": null,
            "right": null,
            "top": null,
            "visibility": null,
            "width": null
          }
        },
        "4986fe882e624709abcf1a5c316fc2d1": {
          "model_module": "@jupyter-widgets/base",
          "model_name": "LayoutModel",
          "model_module_version": "1.2.0",
          "state": {
            "_model_module": "@jupyter-widgets/base",
            "_model_module_version": "1.2.0",
            "_model_name": "LayoutModel",
            "_view_count": null,
            "_view_module": "@jupyter-widgets/base",
            "_view_module_version": "1.2.0",
            "_view_name": "LayoutView",
            "align_content": null,
            "align_items": null,
            "align_self": null,
            "border": null,
            "bottom": null,
            "display": null,
            "flex": null,
            "flex_flow": null,
            "grid_area": null,
            "grid_auto_columns": null,
            "grid_auto_flow": null,
            "grid_auto_rows": null,
            "grid_column": null,
            "grid_gap": null,
            "grid_row": null,
            "grid_template_areas": null,
            "grid_template_columns": null,
            "grid_template_rows": null,
            "height": null,
            "justify_content": null,
            "justify_items": null,
            "left": null,
            "margin": null,
            "max_height": null,
            "max_width": null,
            "min_height": null,
            "min_width": null,
            "object_fit": null,
            "object_position": null,
            "order": null,
            "overflow": null,
            "overflow_x": null,
            "overflow_y": null,
            "padding": null,
            "right": null,
            "top": null,
            "visibility": null,
            "width": null
          }
        },
        "590cdb9377c0479bb5396adfdc07b277": {
          "model_module": "@jupyter-widgets/controls",
          "model_name": "DescriptionStyleModel",
          "model_module_version": "1.5.0",
          "state": {
            "_model_module": "@jupyter-widgets/controls",
            "_model_module_version": "1.5.0",
            "_model_name": "DescriptionStyleModel",
            "_view_count": null,
            "_view_module": "@jupyter-widgets/base",
            "_view_module_version": "1.2.0",
            "_view_name": "StyleView",
            "description_width": ""
          }
        },
        "f43077b658ad4ab7bbe1aa727ea30038": {
          "model_module": "@jupyter-widgets/base",
          "model_name": "LayoutModel",
          "model_module_version": "1.2.0",
          "state": {
            "_model_module": "@jupyter-widgets/base",
            "_model_module_version": "1.2.0",
            "_model_name": "LayoutModel",
            "_view_count": null,
            "_view_module": "@jupyter-widgets/base",
            "_view_module_version": "1.2.0",
            "_view_name": "LayoutView",
            "align_content": null,
            "align_items": null,
            "align_self": null,
            "border": null,
            "bottom": null,
            "display": null,
            "flex": null,
            "flex_flow": null,
            "grid_area": null,
            "grid_auto_columns": null,
            "grid_auto_flow": null,
            "grid_auto_rows": null,
            "grid_column": null,
            "grid_gap": null,
            "grid_row": null,
            "grid_template_areas": null,
            "grid_template_columns": null,
            "grid_template_rows": null,
            "height": null,
            "justify_content": null,
            "justify_items": null,
            "left": null,
            "margin": null,
            "max_height": null,
            "max_width": null,
            "min_height": null,
            "min_width": null,
            "object_fit": null,
            "object_position": null,
            "order": null,
            "overflow": null,
            "overflow_x": null,
            "overflow_y": null,
            "padding": null,
            "right": null,
            "top": null,
            "visibility": null,
            "width": null
          }
        },
        "efb619f7a3804169b2eee41ec087de68": {
          "model_module": "@jupyter-widgets/controls",
          "model_name": "ProgressStyleModel",
          "model_module_version": "1.5.0",
          "state": {
            "_model_module": "@jupyter-widgets/controls",
            "_model_module_version": "1.5.0",
            "_model_name": "ProgressStyleModel",
            "_view_count": null,
            "_view_module": "@jupyter-widgets/base",
            "_view_module_version": "1.2.0",
            "_view_name": "StyleView",
            "bar_color": null,
            "description_width": ""
          }
        },
        "a44c05740a56493eba885fb5290f4b14": {
          "model_module": "@jupyter-widgets/base",
          "model_name": "LayoutModel",
          "model_module_version": "1.2.0",
          "state": {
            "_model_module": "@jupyter-widgets/base",
            "_model_module_version": "1.2.0",
            "_model_name": "LayoutModel",
            "_view_count": null,
            "_view_module": "@jupyter-widgets/base",
            "_view_module_version": "1.2.0",
            "_view_name": "LayoutView",
            "align_content": null,
            "align_items": null,
            "align_self": null,
            "border": null,
            "bottom": null,
            "display": null,
            "flex": null,
            "flex_flow": null,
            "grid_area": null,
            "grid_auto_columns": null,
            "grid_auto_flow": null,
            "grid_auto_rows": null,
            "grid_column": null,
            "grid_gap": null,
            "grid_row": null,
            "grid_template_areas": null,
            "grid_template_columns": null,
            "grid_template_rows": null,
            "height": null,
            "justify_content": null,
            "justify_items": null,
            "left": null,
            "margin": null,
            "max_height": null,
            "max_width": null,
            "min_height": null,
            "min_width": null,
            "object_fit": null,
            "object_position": null,
            "order": null,
            "overflow": null,
            "overflow_x": null,
            "overflow_y": null,
            "padding": null,
            "right": null,
            "top": null,
            "visibility": null,
            "width": null
          }
        },
        "03a63459756b4a2bbcb645a7e2f86db0": {
          "model_module": "@jupyter-widgets/controls",
          "model_name": "DescriptionStyleModel",
          "model_module_version": "1.5.0",
          "state": {
            "_model_module": "@jupyter-widgets/controls",
            "_model_module_version": "1.5.0",
            "_model_name": "DescriptionStyleModel",
            "_view_count": null,
            "_view_module": "@jupyter-widgets/base",
            "_view_module_version": "1.2.0",
            "_view_name": "StyleView",
            "description_width": ""
          }
        },
        "79d01b3904ec404e98a32bc1d654dbff": {
          "model_module": "@jupyter-widgets/controls",
          "model_name": "HBoxModel",
          "model_module_version": "1.5.0",
          "state": {
            "_dom_classes": [],
            "_model_module": "@jupyter-widgets/controls",
            "_model_module_version": "1.5.0",
            "_model_name": "HBoxModel",
            "_view_count": null,
            "_view_module": "@jupyter-widgets/controls",
            "_view_module_version": "1.5.0",
            "_view_name": "HBoxView",
            "box_style": "",
            "children": [
              "IPY_MODEL_73edbe28c15840bd9c37f01f8c2ed942",
              "IPY_MODEL_038019addf2548ef8019f151c679c868",
              "IPY_MODEL_e7effd3020464c11b9413ac891ba37ae"
            ],
            "layout": "IPY_MODEL_3e9a73ca7fd9449ca4478e6baa985d10"
          }
        },
        "73edbe28c15840bd9c37f01f8c2ed942": {
          "model_module": "@jupyter-widgets/controls",
          "model_name": "HTMLModel",
          "model_module_version": "1.5.0",
          "state": {
            "_dom_classes": [],
            "_model_module": "@jupyter-widgets/controls",
            "_model_module_version": "1.5.0",
            "_model_name": "HTMLModel",
            "_view_count": null,
            "_view_module": "@jupyter-widgets/controls",
            "_view_module_version": "1.5.0",
            "_view_name": "HTMLView",
            "description": "",
            "description_tooltip": null,
            "layout": "IPY_MODEL_f0abdbf4835e421ea27624f00d1e9730",
            "placeholder": "​",
            "style": "IPY_MODEL_5f54dc291e98416089b945a1405d9bb6",
            "value": "100%"
          }
        },
        "038019addf2548ef8019f151c679c868": {
          "model_module": "@jupyter-widgets/controls",
          "model_name": "FloatProgressModel",
          "model_module_version": "1.5.0",
          "state": {
            "_dom_classes": [],
            "_model_module": "@jupyter-widgets/controls",
            "_model_module_version": "1.5.0",
            "_model_name": "FloatProgressModel",
            "_view_count": null,
            "_view_module": "@jupyter-widgets/controls",
            "_view_module_version": "1.5.0",
            "_view_name": "ProgressView",
            "bar_style": "success",
            "description": "",
            "description_tooltip": null,
            "layout": "IPY_MODEL_8b5a7073263f439398848dd89565e0ef",
            "max": 199,
            "min": 0,
            "orientation": "horizontal",
            "style": "IPY_MODEL_46364d1243b1475bb663c60895cf19b9",
            "value": 199
          }
        },
        "e7effd3020464c11b9413ac891ba37ae": {
          "model_module": "@jupyter-widgets/controls",
          "model_name": "HTMLModel",
          "model_module_version": "1.5.0",
          "state": {
            "_dom_classes": [],
            "_model_module": "@jupyter-widgets/controls",
            "_model_module_version": "1.5.0",
            "_model_name": "HTMLModel",
            "_view_count": null,
            "_view_module": "@jupyter-widgets/controls",
            "_view_module_version": "1.5.0",
            "_view_name": "HTMLView",
            "description": "",
            "description_tooltip": null,
            "layout": "IPY_MODEL_b27f323ca53d46228eedb617530e1507",
            "placeholder": "​",
            "style": "IPY_MODEL_c8f8b77c834a4755bf6083cacc421dcc",
            "value": " 199/199 [00:00&lt;00:00, 3710.98it/s]"
          }
        },
        "3e9a73ca7fd9449ca4478e6baa985d10": {
          "model_module": "@jupyter-widgets/base",
          "model_name": "LayoutModel",
          "model_module_version": "1.2.0",
          "state": {
            "_model_module": "@jupyter-widgets/base",
            "_model_module_version": "1.2.0",
            "_model_name": "LayoutModel",
            "_view_count": null,
            "_view_module": "@jupyter-widgets/base",
            "_view_module_version": "1.2.0",
            "_view_name": "LayoutView",
            "align_content": null,
            "align_items": null,
            "align_self": null,
            "border": null,
            "bottom": null,
            "display": null,
            "flex": null,
            "flex_flow": null,
            "grid_area": null,
            "grid_auto_columns": null,
            "grid_auto_flow": null,
            "grid_auto_rows": null,
            "grid_column": null,
            "grid_gap": null,
            "grid_row": null,
            "grid_template_areas": null,
            "grid_template_columns": null,
            "grid_template_rows": null,
            "height": null,
            "justify_content": null,
            "justify_items": null,
            "left": null,
            "margin": null,
            "max_height": null,
            "max_width": null,
            "min_height": null,
            "min_width": null,
            "object_fit": null,
            "object_position": null,
            "order": null,
            "overflow": null,
            "overflow_x": null,
            "overflow_y": null,
            "padding": null,
            "right": null,
            "top": null,
            "visibility": null,
            "width": null
          }
        },
        "f0abdbf4835e421ea27624f00d1e9730": {
          "model_module": "@jupyter-widgets/base",
          "model_name": "LayoutModel",
          "model_module_version": "1.2.0",
          "state": {
            "_model_module": "@jupyter-widgets/base",
            "_model_module_version": "1.2.0",
            "_model_name": "LayoutModel",
            "_view_count": null,
            "_view_module": "@jupyter-widgets/base",
            "_view_module_version": "1.2.0",
            "_view_name": "LayoutView",
            "align_content": null,
            "align_items": null,
            "align_self": null,
            "border": null,
            "bottom": null,
            "display": null,
            "flex": null,
            "flex_flow": null,
            "grid_area": null,
            "grid_auto_columns": null,
            "grid_auto_flow": null,
            "grid_auto_rows": null,
            "grid_column": null,
            "grid_gap": null,
            "grid_row": null,
            "grid_template_areas": null,
            "grid_template_columns": null,
            "grid_template_rows": null,
            "height": null,
            "justify_content": null,
            "justify_items": null,
            "left": null,
            "margin": null,
            "max_height": null,
            "max_width": null,
            "min_height": null,
            "min_width": null,
            "object_fit": null,
            "object_position": null,
            "order": null,
            "overflow": null,
            "overflow_x": null,
            "overflow_y": null,
            "padding": null,
            "right": null,
            "top": null,
            "visibility": null,
            "width": null
          }
        },
        "5f54dc291e98416089b945a1405d9bb6": {
          "model_module": "@jupyter-widgets/controls",
          "model_name": "DescriptionStyleModel",
          "model_module_version": "1.5.0",
          "state": {
            "_model_module": "@jupyter-widgets/controls",
            "_model_module_version": "1.5.0",
            "_model_name": "DescriptionStyleModel",
            "_view_count": null,
            "_view_module": "@jupyter-widgets/base",
            "_view_module_version": "1.2.0",
            "_view_name": "StyleView",
            "description_width": ""
          }
        },
        "8b5a7073263f439398848dd89565e0ef": {
          "model_module": "@jupyter-widgets/base",
          "model_name": "LayoutModel",
          "model_module_version": "1.2.0",
          "state": {
            "_model_module": "@jupyter-widgets/base",
            "_model_module_version": "1.2.0",
            "_model_name": "LayoutModel",
            "_view_count": null,
            "_view_module": "@jupyter-widgets/base",
            "_view_module_version": "1.2.0",
            "_view_name": "LayoutView",
            "align_content": null,
            "align_items": null,
            "align_self": null,
            "border": null,
            "bottom": null,
            "display": null,
            "flex": null,
            "flex_flow": null,
            "grid_area": null,
            "grid_auto_columns": null,
            "grid_auto_flow": null,
            "grid_auto_rows": null,
            "grid_column": null,
            "grid_gap": null,
            "grid_row": null,
            "grid_template_areas": null,
            "grid_template_columns": null,
            "grid_template_rows": null,
            "height": null,
            "justify_content": null,
            "justify_items": null,
            "left": null,
            "margin": null,
            "max_height": null,
            "max_width": null,
            "min_height": null,
            "min_width": null,
            "object_fit": null,
            "object_position": null,
            "order": null,
            "overflow": null,
            "overflow_x": null,
            "overflow_y": null,
            "padding": null,
            "right": null,
            "top": null,
            "visibility": null,
            "width": null
          }
        },
        "46364d1243b1475bb663c60895cf19b9": {
          "model_module": "@jupyter-widgets/controls",
          "model_name": "ProgressStyleModel",
          "model_module_version": "1.5.0",
          "state": {
            "_model_module": "@jupyter-widgets/controls",
            "_model_module_version": "1.5.0",
            "_model_name": "ProgressStyleModel",
            "_view_count": null,
            "_view_module": "@jupyter-widgets/base",
            "_view_module_version": "1.2.0",
            "_view_name": "StyleView",
            "bar_color": null,
            "description_width": ""
          }
        },
        "b27f323ca53d46228eedb617530e1507": {
          "model_module": "@jupyter-widgets/base",
          "model_name": "LayoutModel",
          "model_module_version": "1.2.0",
          "state": {
            "_model_module": "@jupyter-widgets/base",
            "_model_module_version": "1.2.0",
            "_model_name": "LayoutModel",
            "_view_count": null,
            "_view_module": "@jupyter-widgets/base",
            "_view_module_version": "1.2.0",
            "_view_name": "LayoutView",
            "align_content": null,
            "align_items": null,
            "align_self": null,
            "border": null,
            "bottom": null,
            "display": null,
            "flex": null,
            "flex_flow": null,
            "grid_area": null,
            "grid_auto_columns": null,
            "grid_auto_flow": null,
            "grid_auto_rows": null,
            "grid_column": null,
            "grid_gap": null,
            "grid_row": null,
            "grid_template_areas": null,
            "grid_template_columns": null,
            "grid_template_rows": null,
            "height": null,
            "justify_content": null,
            "justify_items": null,
            "left": null,
            "margin": null,
            "max_height": null,
            "max_width": null,
            "min_height": null,
            "min_width": null,
            "object_fit": null,
            "object_position": null,
            "order": null,
            "overflow": null,
            "overflow_x": null,
            "overflow_y": null,
            "padding": null,
            "right": null,
            "top": null,
            "visibility": null,
            "width": null
          }
        },
        "c8f8b77c834a4755bf6083cacc421dcc": {
          "model_module": "@jupyter-widgets/controls",
          "model_name": "DescriptionStyleModel",
          "model_module_version": "1.5.0",
          "state": {
            "_model_module": "@jupyter-widgets/controls",
            "_model_module_version": "1.5.0",
            "_model_name": "DescriptionStyleModel",
            "_view_count": null,
            "_view_module": "@jupyter-widgets/base",
            "_view_module_version": "1.2.0",
            "_view_name": "StyleView",
            "description_width": ""
          }
        },
        "c90b6295e8894c20a7133caec1ea9b3e": {
          "model_module": "@jupyter-widgets/controls",
          "model_name": "HBoxModel",
          "model_module_version": "1.5.0",
          "state": {
            "_dom_classes": [],
            "_model_module": "@jupyter-widgets/controls",
            "_model_module_version": "1.5.0",
            "_model_name": "HBoxModel",
            "_view_count": null,
            "_view_module": "@jupyter-widgets/controls",
            "_view_module_version": "1.5.0",
            "_view_name": "HBoxView",
            "box_style": "",
            "children": [
              "IPY_MODEL_819ddd8bdbb841dda6f74a44ce44fe04",
              "IPY_MODEL_2f94c8e23479401ab38c27c59d67314f",
              "IPY_MODEL_ee43ff3495af49e3b3cf35ea4c9ada36"
            ],
            "layout": "IPY_MODEL_a3e12d8109ff444783a10cd8b6710eaf"
          }
        },
        "819ddd8bdbb841dda6f74a44ce44fe04": {
          "model_module": "@jupyter-widgets/controls",
          "model_name": "HTMLModel",
          "model_module_version": "1.5.0",
          "state": {
            "_dom_classes": [],
            "_model_module": "@jupyter-widgets/controls",
            "_model_module_version": "1.5.0",
            "_model_name": "HTMLModel",
            "_view_count": null,
            "_view_module": "@jupyter-widgets/controls",
            "_view_module_version": "1.5.0",
            "_view_name": "HTMLView",
            "description": "",
            "description_tooltip": null,
            "layout": "IPY_MODEL_95f0b760c5ce4beaaa499c3046b7e601",
            "placeholder": "​",
            "style": "IPY_MODEL_87bc02640632447f8d2a6942dd036728",
            "value": "100%"
          }
        },
        "2f94c8e23479401ab38c27c59d67314f": {
          "model_module": "@jupyter-widgets/controls",
          "model_name": "FloatProgressModel",
          "model_module_version": "1.5.0",
          "state": {
            "_dom_classes": [],
            "_model_module": "@jupyter-widgets/controls",
            "_model_module_version": "1.5.0",
            "_model_name": "FloatProgressModel",
            "_view_count": null,
            "_view_module": "@jupyter-widgets/controls",
            "_view_module_version": "1.5.0",
            "_view_name": "ProgressView",
            "bar_style": "success",
            "description": "",
            "description_tooltip": null,
            "layout": "IPY_MODEL_fcbe2bb290a14b11bba265129845b33b",
            "max": 200,
            "min": 0,
            "orientation": "horizontal",
            "style": "IPY_MODEL_180a4611775040988ec99b61bf3727c9",
            "value": 200
          }
        },
        "ee43ff3495af49e3b3cf35ea4c9ada36": {
          "model_module": "@jupyter-widgets/controls",
          "model_name": "HTMLModel",
          "model_module_version": "1.5.0",
          "state": {
            "_dom_classes": [],
            "_model_module": "@jupyter-widgets/controls",
            "_model_module_version": "1.5.0",
            "_model_name": "HTMLModel",
            "_view_count": null,
            "_view_module": "@jupyter-widgets/controls",
            "_view_module_version": "1.5.0",
            "_view_name": "HTMLView",
            "description": "",
            "description_tooltip": null,
            "layout": "IPY_MODEL_58a2c710948243df926d3c1b271e0e50",
            "placeholder": "​",
            "style": "IPY_MODEL_cf9cc40c2cef4442ae435320e6529791",
            "value": " 200/200 [00:00&lt;00:00, 2763.32it/s]"
          }
        },
        "a3e12d8109ff444783a10cd8b6710eaf": {
          "model_module": "@jupyter-widgets/base",
          "model_name": "LayoutModel",
          "model_module_version": "1.2.0",
          "state": {
            "_model_module": "@jupyter-widgets/base",
            "_model_module_version": "1.2.0",
            "_model_name": "LayoutModel",
            "_view_count": null,
            "_view_module": "@jupyter-widgets/base",
            "_view_module_version": "1.2.0",
            "_view_name": "LayoutView",
            "align_content": null,
            "align_items": null,
            "align_self": null,
            "border": null,
            "bottom": null,
            "display": null,
            "flex": null,
            "flex_flow": null,
            "grid_area": null,
            "grid_auto_columns": null,
            "grid_auto_flow": null,
            "grid_auto_rows": null,
            "grid_column": null,
            "grid_gap": null,
            "grid_row": null,
            "grid_template_areas": null,
            "grid_template_columns": null,
            "grid_template_rows": null,
            "height": null,
            "justify_content": null,
            "justify_items": null,
            "left": null,
            "margin": null,
            "max_height": null,
            "max_width": null,
            "min_height": null,
            "min_width": null,
            "object_fit": null,
            "object_position": null,
            "order": null,
            "overflow": null,
            "overflow_x": null,
            "overflow_y": null,
            "padding": null,
            "right": null,
            "top": null,
            "visibility": null,
            "width": null
          }
        },
        "95f0b760c5ce4beaaa499c3046b7e601": {
          "model_module": "@jupyter-widgets/base",
          "model_name": "LayoutModel",
          "model_module_version": "1.2.0",
          "state": {
            "_model_module": "@jupyter-widgets/base",
            "_model_module_version": "1.2.0",
            "_model_name": "LayoutModel",
            "_view_count": null,
            "_view_module": "@jupyter-widgets/base",
            "_view_module_version": "1.2.0",
            "_view_name": "LayoutView",
            "align_content": null,
            "align_items": null,
            "align_self": null,
            "border": null,
            "bottom": null,
            "display": null,
            "flex": null,
            "flex_flow": null,
            "grid_area": null,
            "grid_auto_columns": null,
            "grid_auto_flow": null,
            "grid_auto_rows": null,
            "grid_column": null,
            "grid_gap": null,
            "grid_row": null,
            "grid_template_areas": null,
            "grid_template_columns": null,
            "grid_template_rows": null,
            "height": null,
            "justify_content": null,
            "justify_items": null,
            "left": null,
            "margin": null,
            "max_height": null,
            "max_width": null,
            "min_height": null,
            "min_width": null,
            "object_fit": null,
            "object_position": null,
            "order": null,
            "overflow": null,
            "overflow_x": null,
            "overflow_y": null,
            "padding": null,
            "right": null,
            "top": null,
            "visibility": null,
            "width": null
          }
        },
        "87bc02640632447f8d2a6942dd036728": {
          "model_module": "@jupyter-widgets/controls",
          "model_name": "DescriptionStyleModel",
          "model_module_version": "1.5.0",
          "state": {
            "_model_module": "@jupyter-widgets/controls",
            "_model_module_version": "1.5.0",
            "_model_name": "DescriptionStyleModel",
            "_view_count": null,
            "_view_module": "@jupyter-widgets/base",
            "_view_module_version": "1.2.0",
            "_view_name": "StyleView",
            "description_width": ""
          }
        },
        "fcbe2bb290a14b11bba265129845b33b": {
          "model_module": "@jupyter-widgets/base",
          "model_name": "LayoutModel",
          "model_module_version": "1.2.0",
          "state": {
            "_model_module": "@jupyter-widgets/base",
            "_model_module_version": "1.2.0",
            "_model_name": "LayoutModel",
            "_view_count": null,
            "_view_module": "@jupyter-widgets/base",
            "_view_module_version": "1.2.0",
            "_view_name": "LayoutView",
            "align_content": null,
            "align_items": null,
            "align_self": null,
            "border": null,
            "bottom": null,
            "display": null,
            "flex": null,
            "flex_flow": null,
            "grid_area": null,
            "grid_auto_columns": null,
            "grid_auto_flow": null,
            "grid_auto_rows": null,
            "grid_column": null,
            "grid_gap": null,
            "grid_row": null,
            "grid_template_areas": null,
            "grid_template_columns": null,
            "grid_template_rows": null,
            "height": null,
            "justify_content": null,
            "justify_items": null,
            "left": null,
            "margin": null,
            "max_height": null,
            "max_width": null,
            "min_height": null,
            "min_width": null,
            "object_fit": null,
            "object_position": null,
            "order": null,
            "overflow": null,
            "overflow_x": null,
            "overflow_y": null,
            "padding": null,
            "right": null,
            "top": null,
            "visibility": null,
            "width": null
          }
        },
        "180a4611775040988ec99b61bf3727c9": {
          "model_module": "@jupyter-widgets/controls",
          "model_name": "ProgressStyleModel",
          "model_module_version": "1.5.0",
          "state": {
            "_model_module": "@jupyter-widgets/controls",
            "_model_module_version": "1.5.0",
            "_model_name": "ProgressStyleModel",
            "_view_count": null,
            "_view_module": "@jupyter-widgets/base",
            "_view_module_version": "1.2.0",
            "_view_name": "StyleView",
            "bar_color": null,
            "description_width": ""
          }
        },
        "58a2c710948243df926d3c1b271e0e50": {
          "model_module": "@jupyter-widgets/base",
          "model_name": "LayoutModel",
          "model_module_version": "1.2.0",
          "state": {
            "_model_module": "@jupyter-widgets/base",
            "_model_module_version": "1.2.0",
            "_model_name": "LayoutModel",
            "_view_count": null,
            "_view_module": "@jupyter-widgets/base",
            "_view_module_version": "1.2.0",
            "_view_name": "LayoutView",
            "align_content": null,
            "align_items": null,
            "align_self": null,
            "border": null,
            "bottom": null,
            "display": null,
            "flex": null,
            "flex_flow": null,
            "grid_area": null,
            "grid_auto_columns": null,
            "grid_auto_flow": null,
            "grid_auto_rows": null,
            "grid_column": null,
            "grid_gap": null,
            "grid_row": null,
            "grid_template_areas": null,
            "grid_template_columns": null,
            "grid_template_rows": null,
            "height": null,
            "justify_content": null,
            "justify_items": null,
            "left": null,
            "margin": null,
            "max_height": null,
            "max_width": null,
            "min_height": null,
            "min_width": null,
            "object_fit": null,
            "object_position": null,
            "order": null,
            "overflow": null,
            "overflow_x": null,
            "overflow_y": null,
            "padding": null,
            "right": null,
            "top": null,
            "visibility": null,
            "width": null
          }
        },
        "cf9cc40c2cef4442ae435320e6529791": {
          "model_module": "@jupyter-widgets/controls",
          "model_name": "DescriptionStyleModel",
          "model_module_version": "1.5.0",
          "state": {
            "_model_module": "@jupyter-widgets/controls",
            "_model_module_version": "1.5.0",
            "_model_name": "DescriptionStyleModel",
            "_view_count": null,
            "_view_module": "@jupyter-widgets/base",
            "_view_module_version": "1.2.0",
            "_view_name": "StyleView",
            "description_width": ""
          }
        }
      }
    }
  },
  "cells": [
    {
      "cell_type": "markdown",
      "metadata": {
        "id": "9jGtoxHjGqGY"
      },
      "source": [
        "# **Feedforward Neural Network**"
      ]
    },
    {
      "cell_type": "markdown",
      "metadata": {
        "id": "ER-kUOm5IL3f"
      },
      "source": [
        "## Single-layer Perceptron(20pt)\n",
        "A single layer perceptron predicts a binary label $\\hat{y}$ for a given input vector $\\boldsymbol{x} \\in \\mathbb{R}^d$ ($d$ presents the number of dimensions of inputs) by using the following formula,\n",
        "\n",
        "$$\n",
        "\\hat{y} = \\begin{cases}\n",
        "1 & \\text{if }\\boldsymbol{w} \\cdot \\boldsymbol{x} + b>0\\\\\n",
        "0 & \\text{else}\n",
        "\\end{cases}\n",
        "$$\n"
      ]
    },
    {
      "cell_type": "code",
      "metadata": {
        "colab": {
          "base_uri": "https://localhost:8080/"
        },
        "id": "3Cd_s9owb5Wx",
        "outputId": "f364f44c-bb7b-442a-d20d-b7f34967505d"
      },
      "source": [
        "!gdown --id '1TpMVIPzhCRVkl3HD_QgXbIAf3fL698Ul' --output data.xlsx"
      ],
      "execution_count": 1,
      "outputs": [
        {
          "output_type": "stream",
          "name": "stdout",
          "text": [
            "/usr/local/lib/python3.7/dist-packages/gdown/cli.py:131: FutureWarning: Option `--id` was deprecated in version 4.3.1 and will be removed in 5.0. You don't need to pass it anymore to use a file ID.\n",
            "  category=FutureWarning,\n",
            "Downloading...\n",
            "From: https://drive.google.com/uc?id=1TpMVIPzhCRVkl3HD_QgXbIAf3fL698Ul\n",
            "To: /content/data.xlsx\n",
            "100% 9.64k/9.64k [00:00<00:00, 14.2MB/s]\n"
          ]
        }
      ]
    },
    {
      "cell_type": "code",
      "metadata": {
        "id": "73Z0VaLbZI1Y"
      },
      "source": [
        "# import some useful package\n",
        "%matplotlib inline\n",
        "import matplotlib.pyplot as plt\n",
        "import numpy as np\n",
        "import pandas as pd\n",
        "from tqdm.notebook import tqdm  \n",
        "import math"
      ],
      "execution_count": 2,
      "outputs": []
    },
    {
      "cell_type": "code",
      "source": [
        "# read the Excel file\n",
        "df = pd.read_excel('data.xlsx')\n",
        "# select the list where we are interested. \n",
        "# <hint>: you need to change the format into float for the later calculation\n",
        "lst=df.values.tolist()\n",
        "# change the list to NumPy array\n",
        "arr=np.array(lst)\n",
        "# print the NumPy array\n",
        "print(arr)"
      ],
      "metadata": {
        "colab": {
          "base_uri": "https://localhost:8080/"
        },
        "id": "L-EDXCNLHtId",
        "outputId": "b8155345-6585-4222-95bd-69c6b77b0a1d"
      },
      "execution_count": 3,
      "outputs": [
        {
          "output_type": "stream",
          "name": "stdout",
          "text": [
            "[[ 1.  2.  3.  2.]\n",
            " [ 1.  5. 14.  7.]\n",
            " [ 1.  5. 13.  7.]\n",
            " [ 1.  5. 13.  6.]\n",
            " [ 1.  5. 15.  8.]\n",
            " [ 1.  5. 14.  8.]\n",
            " [ 1.  5. 13.  8.]\n",
            " [ 1.  2.  2.  0.]\n",
            " [ 1.  5. 16.  8.]\n",
            " [ 1.  3.  3.  0.]\n",
            " [ 1.  5. 15.  6.]\n",
            " [ 1.  5. 16.  7.]\n",
            " [ 1.  5. 16.  6.]\n",
            " [ 1.  5. 15.  7.]\n",
            " [ 1.  2.  5.  0.]\n",
            " [ 1.  4. 11.  8.]\n",
            " [ 1.  3.  1.  1.]\n",
            " [ 1.  3. 11.  7.]\n",
            " [ 1.  2.  6.  0.]\n",
            " [ 1.  4. 10. 10.]\n",
            " [ 1.  2.  6.  2.]\n",
            " [ 1.  4. 11. 10.]\n",
            " [ 1.  2.  5.  2.]\n",
            " [ 1.  2.  7.  4.]\n",
            " [ 1.  3.  6.  6.]\n",
            " [ 1.  2.  7.  3.]\n",
            " [ 0.  1.  2.  0.]\n",
            " [ 0.  1.  3.  0.]\n",
            " [ 0.  1.  4.  0.]\n",
            " [ 0.  1.  6.  1.]\n",
            " [ 0.  1.  5.  1.]\n",
            " [ 0.  1.  7.  1.]\n",
            " [ 0.  1.  4.  1.]\n",
            " [ 0.  1.  2.  0.]\n",
            " [ 0.  1.  5.  2.]\n",
            " [ 0.  1.  7.  3.]\n",
            " [ 0.  1.  4.  7.]\n",
            " [ 0.  1.  8.  2.]\n",
            " [ 0.  1. 10.  5.]\n",
            " [ 0.  1. 11.  5.]\n",
            " [ 0.  1.  9.  6.]\n",
            " [ 0.  1.  9.  5.]\n",
            " [ 0.  1.  9.  2.]\n",
            " [ 0.  1. 10.  3.]\n",
            " [ 0.  1. 12.  2.]\n",
            " [ 0.  1. 12.  4.]\n",
            " [ 0.  1. 12.  3.]\n",
            " [ 0.  1. 10.  4.]\n",
            " [ 0.  1. 11.  3.]\n",
            " [ 0.  1. 14.  3.]\n",
            " [ 0.  1. 15.  4.]\n",
            " [ 0.  1. 14.  4.]]\n"
          ]
        }
      ]
    },
    {
      "cell_type": "markdown",
      "metadata": {
        "id": "wzP5ywI4Sr0L"
      },
      "source": [
        "Taka a look at the equation, $\\boldsymbol{w}$ is a weight vector; $b$ is a bias weight; and $g(.)$ denotes a Heaviside step function (we assume $g(0)=0$).\n",
        "\n",
        "$$\n",
        "\\hat{y} = g(\\boldsymbol{w} \\cdot \\boldsymbol{x} + b) = g(w_1 x_1 + w_2 x_2 + ... + w_d x_d + b)\n",
        "$$\n",
        " \n",
        "\n",
        "In order to train a weight vector and bias weight in a unified code, we include a bias term as an additional dimension to inputs. \n",
        "More concretely, we append  1  to each input,\n",
        "Then, the formula of the single-layer perceptron becomes,\n",
        "\n",
        "$$\n",
        "\\hat{y} = g((w_1, w_2,\t\\ldots , w_n) \\cdot \\boldsymbol{x}') = g(w_1 x_1 + w_2 x_2 +\t\\ldots + w_n)\n",
        "$$\n",
        "\n",
        "In other words, $w_1$ and $w_2$ present weights for $x_1$ and $x_2$, respectively, and $w_n$ does a bias weight.\n",
        "\n"
      ]
    },
    {
      "cell_type": "markdown",
      "metadata": {
        "id": "sGq1I7Zxip6c"
      },
      "source": [
        "### Steps\n",
        "\n",
        "\n",
        "1.   Initialize the weights and the threshold. Weights may be initialized to 0 or to a small random value. In the example below, we use 0\n",
        "2.   For each example $i$, perform the following steps over the input $x_i$ and desired output $o$ :\n",
        "  *   Calculate the actual output:\n",
        "  $$\n",
        "  \\hat{y} = g(w_1 x_1 + w_2 x_2 +\t\\ldots + w_n)\n",
        "  $$\n",
        "  *   Update the weights:\n",
        "  $$\n",
        "  w_i(t+1) = w_i(t) + \\alpha \\cdot (o - \\hat{y}(t))x_i\n",
        "  $$\n",
        "  $\\alpha$ means learning rate. In the example below, we use 0.5\n",
        "  And the steps of the training is set as a fixed number of iterations (200 times)\n",
        "\n",
        "\n"
      ]
    },
    {
      "cell_type": "code",
      "source": [
        "# Data setting\n",
        "b = 1\n",
        "x = np.hstack(([row[1:4] for row in arr],np.ones((len(arr),1))))\n",
        "y = [row[0] for row in arr]\n",
        "w = [0]*x.shape[1]\n",
        "# Hyperparameter setting\n",
        "alpha = 0.5\n",
        "step = 200\n",
        "\n",
        "# Training loop\n",
        "for t in tqdm(range(step)):\n",
        "    for i in range(len(y)):\n",
        "        y_pred = np.heaviside(np.dot(x[i], w), 0)\n",
        "        w += alpha * (y[i] - y_pred) * x[i]"
      ],
      "metadata": {
        "colab": {
          "base_uri": "https://localhost:8080/",
          "height": 49,
          "referenced_widgets": [
            "45e61fd30f67441c91bb46417ad2979e",
            "da93df71675e48d081fc2863aa739484",
            "8ee95cb3c1954daf9939e8497f96e290",
            "db6e9eac388240a997c2bae48d4bf20e",
            "0bf8ffe1086d4457ba2f14ab5c5c0774",
            "6c73ee8c24d1491f8e321068e7673f49",
            "3c9d1d6d2f57412a89aac18ca4bfcd41",
            "5bef084baa974150abe50e1db4878ccb",
            "d8ef194ebbcb48d5bd7709b3840a24b2",
            "f1e3c8529e8c44b18b85bc9b6662ffea",
            "51ec12acfadd4246b6cb0fc139692d8d"
          ]
        },
        "id": "sRaQemD2NGlE",
        "outputId": "84b3dc3a-d4b3-4f69-ce8c-7c9145da5a6d"
      },
      "execution_count": 4,
      "outputs": [
        {
          "output_type": "display_data",
          "data": {
            "text/plain": [
              "  0%|          | 0/200 [00:00<?, ?it/s]"
            ],
            "application/vnd.jupyter.widget-view+json": {
              "version_major": 2,
              "version_minor": 0,
              "model_id": "45e61fd30f67441c91bb46417ad2979e"
            }
          },
          "metadata": {}
        }
      ]
    },
    {
      "cell_type": "code",
      "source": [
        "w"
      ],
      "metadata": {
        "colab": {
          "base_uri": "https://localhost:8080/"
        },
        "id": "MlrKH2sAP7wX",
        "outputId": "cc0b0020-8a9b-4d6d-fafa-c8981aed6af8"
      },
      "execution_count": 5,
      "outputs": [
        {
          "output_type": "execute_result",
          "data": {
            "text/plain": [
              "array([ 14. ,  -1.5,  -1. , -12.5])"
            ]
          },
          "metadata": {},
          "execution_count": 5
        }
      ]
    },
    {
      "cell_type": "code",
      "metadata": {
        "colab": {
          "base_uri": "https://localhost:8080/"
        },
        "id": "NdMTZz_hBQSR",
        "outputId": "0efe1f91-0a67-40a6-8d98-81039b3ecf44"
      },
      "source": [
        "# To see the prediction\n",
        "np.heaviside(np.dot(x, w), 0)"
      ],
      "execution_count": 6,
      "outputs": [
        {
          "output_type": "execute_result",
          "data": {
            "text/plain": [
              "array([1., 1., 1., 1., 1., 1., 1., 1., 1., 1., 1., 1., 1., 1., 1., 1., 1.,\n",
              "       1., 1., 1., 1., 1., 1., 1., 1., 1., 0., 0., 0., 0., 0., 0., 0., 0.,\n",
              "       0., 0., 0., 0., 0., 0., 0., 0., 0., 0., 0., 0., 0., 0., 0., 0., 0.,\n",
              "       0.])"
            ]
          },
          "metadata": {},
          "execution_count": 6
        }
      ]
    },
    {
      "cell_type": "markdown",
      "metadata": {
        "id": "xeLzlsZIPcba"
      },
      "source": [
        "## Single-layer Perceptron with batch(20pt)\n",
        "In order to reduce the execusion run by the Python interpreter, which is relatively slow. The common technique to speed up a machine-learning code written in Python is to to execute computations within the matrix library (e.g., numpy).\n",
        "The single-layer perceptron makes predictions for four inputs,\n",
        "$$\n",
        "\\hat{y}_1 = g(\\boldsymbol{x}_1 \\cdot \\boldsymbol{w}) \\\\\n",
        "\\hat{y}_2 = g(\\boldsymbol{x}_2 \\cdot \\boldsymbol{w}) \\\\\n",
        "\\vdots \\\\\n",
        "\\hat{y}_n = g(\\boldsymbol{x}_n \\cdot \\boldsymbol{w}) \\\\\n",
        "$$\n",
        "\n",
        "Here, we define $\\hat{Y} \\in \\mathbb{R}^{n \\times 1}$ and $X \\in \\mathbb{R}^{n \\times d}$ as,\n",
        "$$\n",
        "\\hat{Y} = \\begin{pmatrix} \n",
        "  \\hat{y}_1 \\\\ \n",
        "  \\hat{y}_2 \\\\ \n",
        "  \\vdots \\\\ \n",
        "  \\hat{y}_n \\\\ \n",
        "\\end{pmatrix},\n",
        "X = \\begin{pmatrix} \n",
        "  \\boldsymbol{x}_1 \\\\ \n",
        "  \\boldsymbol{x}_2 \\\\ \n",
        "  \\vdots \\\\ \n",
        "  \\boldsymbol{x}_n \\\\ \n",
        "\\end{pmatrix}\n",
        "$$\n",
        "\n",
        "Then, we can write the all predictions in one dot-product computation,\n",
        "$$\n",
        "\\hat{Y} = X \\cdot \\boldsymbol{w}\n",
        "$$"
      ]
    },
    {
      "cell_type": "code",
      "source": [
        "x"
      ],
      "metadata": {
        "colab": {
          "base_uri": "https://localhost:8080/"
        },
        "id": "O4YTJ-4TZiVM",
        "outputId": "ad08d07f-4a5a-4edc-832e-1e990e10cb97"
      },
      "execution_count": 7,
      "outputs": [
        {
          "output_type": "execute_result",
          "data": {
            "text/plain": [
              "array([[ 2.,  3.,  2.,  1.],\n",
              "       [ 5., 14.,  7.,  1.],\n",
              "       [ 5., 13.,  7.,  1.],\n",
              "       [ 5., 13.,  6.,  1.],\n",
              "       [ 5., 15.,  8.,  1.],\n",
              "       [ 5., 14.,  8.,  1.],\n",
              "       [ 5., 13.,  8.,  1.],\n",
              "       [ 2.,  2.,  0.,  1.],\n",
              "       [ 5., 16.,  8.,  1.],\n",
              "       [ 3.,  3.,  0.,  1.],\n",
              "       [ 5., 15.,  6.,  1.],\n",
              "       [ 5., 16.,  7.,  1.],\n",
              "       [ 5., 16.,  6.,  1.],\n",
              "       [ 5., 15.,  7.,  1.],\n",
              "       [ 2.,  5.,  0.,  1.],\n",
              "       [ 4., 11.,  8.,  1.],\n",
              "       [ 3.,  1.,  1.,  1.],\n",
              "       [ 3., 11.,  7.,  1.],\n",
              "       [ 2.,  6.,  0.,  1.],\n",
              "       [ 4., 10., 10.,  1.],\n",
              "       [ 2.,  6.,  2.,  1.],\n",
              "       [ 4., 11., 10.,  1.],\n",
              "       [ 2.,  5.,  2.,  1.],\n",
              "       [ 2.,  7.,  4.,  1.],\n",
              "       [ 3.,  6.,  6.,  1.],\n",
              "       [ 2.,  7.,  3.,  1.],\n",
              "       [ 1.,  2.,  0.,  1.],\n",
              "       [ 1.,  3.,  0.,  1.],\n",
              "       [ 1.,  4.,  0.,  1.],\n",
              "       [ 1.,  6.,  1.,  1.],\n",
              "       [ 1.,  5.,  1.,  1.],\n",
              "       [ 1.,  7.,  1.,  1.],\n",
              "       [ 1.,  4.,  1.,  1.],\n",
              "       [ 1.,  2.,  0.,  1.],\n",
              "       [ 1.,  5.,  2.,  1.],\n",
              "       [ 1.,  7.,  3.,  1.],\n",
              "       [ 1.,  4.,  7.,  1.],\n",
              "       [ 1.,  8.,  2.,  1.],\n",
              "       [ 1., 10.,  5.,  1.],\n",
              "       [ 1., 11.,  5.,  1.],\n",
              "       [ 1.,  9.,  6.,  1.],\n",
              "       [ 1.,  9.,  5.,  1.],\n",
              "       [ 1.,  9.,  2.,  1.],\n",
              "       [ 1., 10.,  3.,  1.],\n",
              "       [ 1., 12.,  2.,  1.],\n",
              "       [ 1., 12.,  4.,  1.],\n",
              "       [ 1., 12.,  3.,  1.],\n",
              "       [ 1., 10.,  4.,  1.],\n",
              "       [ 1., 11.,  3.,  1.],\n",
              "       [ 1., 14.,  3.,  1.],\n",
              "       [ 1., 15.,  4.,  1.],\n",
              "       [ 1., 14.,  4.,  1.]])"
            ]
          },
          "metadata": {},
          "execution_count": 7
        }
      ]
    },
    {
      "cell_type": "code",
      "source": [
        "# Data setting\n",
        "b = 1\n",
        "x = np.hstack(([row[1:4] for row in arr],np.ones((len(arr),1))))\n",
        "y = [row[0] for row in arr]\n",
        "w = np.array([0.0]*x.shape[1])\n",
        "# Hyperparameter setting\n",
        "alpha = 0.5\n",
        "step = 200\n",
        "\n",
        "# Training loop\n",
        "for t in tqdm(range(step)):\n",
        "  y_pred= np.heaviside(np.dot(x, w), 0)\n",
        "  w += alpha * np.dot(y - y_pred,x)"
      ],
      "metadata": {
        "colab": {
          "base_uri": "https://localhost:8080/",
          "height": 49,
          "referenced_widgets": [
            "d1cfe1b0de08459a9ab1fd8cf9f8234c",
            "f31c411a09d74706bd69355f7626698a",
            "523db0e5a29b4869a9a3d54ee754337c",
            "a7f88d2edfe543f09f3e990c31d05407",
            "f555fd7fbf1a4c7f8a5925fb67f43f27",
            "c77d7c30561d46bc86d86f5475ea8e99",
            "33428c38e2924cabad7d1e3cae1f3022",
            "ab10da8d54d54e59890e2a741063fea8",
            "c7d2d3a93ec84bdb8f5feca87440d6fc",
            "80137ee5df7f4aa58aba3795c2b0d19c",
            "d0284b7b70d747d1a500c0b58c5e9833"
          ]
        },
        "id": "BZRX5MsgS9rz",
        "outputId": "69d0668c-deb2-4e35-d47b-061c9ff0ab7c"
      },
      "execution_count": 8,
      "outputs": [
        {
          "output_type": "display_data",
          "data": {
            "text/plain": [
              "  0%|          | 0/200 [00:00<?, ?it/s]"
            ],
            "application/vnd.jupyter.widget-view+json": {
              "version_major": 2,
              "version_minor": 0,
              "model_id": "d1cfe1b0de08459a9ab1fd8cf9f8234c"
            }
          },
          "metadata": {}
        }
      ]
    },
    {
      "cell_type": "code",
      "source": [
        "# To see the value of weight vector\n",
        "w"
      ],
      "metadata": {
        "colab": {
          "base_uri": "https://localhost:8080/"
        },
        "id": "m8qqGmvW7B-6",
        "outputId": "a22525a1-1ec8-42cf-fb64-616243a4d116"
      },
      "execution_count": 9,
      "outputs": [
        {
          "output_type": "execute_result",
          "data": {
            "text/plain": [
              "array([ 251.5,  -58. ,   15. , -137. ])"
            ]
          },
          "metadata": {},
          "execution_count": 9
        }
      ]
    },
    {
      "cell_type": "code",
      "source": [
        "# To see the prediction\n",
        "np.heaviside(np.dot(x, w), 0)"
      ],
      "metadata": {
        "colab": {
          "base_uri": "https://localhost:8080/"
        },
        "id": "m6uBKvpR9qQ3",
        "outputId": "b5b894ea-92e9-47f1-844f-87edd9f80c65"
      },
      "execution_count": 10,
      "outputs": [
        {
          "output_type": "execute_result",
          "data": {
            "text/plain": [
              "array([1., 1., 1., 1., 1., 1., 1., 1., 1., 1., 1., 1., 1., 1., 1., 1., 1.,\n",
              "       1., 1., 1., 1., 1., 1., 1., 1., 1., 0., 0., 0., 0., 0., 0., 0., 0.,\n",
              "       0., 0., 0., 0., 0., 0., 0., 0., 0., 0., 0., 0., 0., 0., 0., 0., 0.,\n",
              "       0.])"
            ]
          },
          "metadata": {},
          "execution_count": 10
        }
      ]
    },
    {
      "cell_type": "markdown",
      "metadata": {
        "id": "8Q7tcICqBkr4"
      },
      "source": [
        "## Single-layer Perceptron with different activation function\n",
        "### ReLU Function\n",
        "The most popular choice,\n",
        "due to both simplicity of implementation and\n",
        "its good performance on a variety of predictive tasks,\n",
        "is the *rectified linear unit* (*ReLU*).\n",
        "[**ReLU provides a very simple nonlinear transformation**].\n",
        "Given an element $x$, the function is defined\n",
        "as the maximum of that element and $0$:\n",
        "\n",
        "$$\\operatorname{ReLU}(x) = \\max(x, 0).$$\n",
        "### sigmoid function\n",
        "[**The *sigmoid function* transforms its inputs**],\n",
        "for which values lie in the domain $\\mathbb{R}$,\n",
        "(**to outputs that lie on the interval (0, 1).**)\n",
        "For that reason, the sigmoid is\n",
        "often called a *squashing function*:\n",
        "it squashes any input in the range (-inf, inf)\n",
        "to some value in the range (0, 1):\n",
        "\n",
        "$$\\operatorname{sigmoid}(x) = \\frac{1}{1 + \\exp(-x)}.$$\n",
        "\n",
        "\n"
      ]
    },
    {
      "cell_type": "markdown",
      "source": [
        "## Define and plot the function (10pt)"
      ],
      "metadata": {
        "id": "v_cSi_M41kFA"
      }
    },
    {
      "cell_type": "code",
      "metadata": {
        "id": "8CdKH2sWCMeS"
      },
      "source": [
        "# define the activation function\n",
        "def ReLU(x): \n",
        "    for i in range(len(x)):\n",
        "        if x[i] <= 0:\n",
        "            x[i]=0;\n",
        "    return x\n",
        "\n",
        "def sigmoid(x):\n",
        "    y=[0.0]*len(x)\n",
        "    for i in range(len(x)):\n",
        "        try:\n",
        "            y[i]=1/(1+math.exp(-x[i]))\n",
        "        except OverflowError:\n",
        "            y[i]=0\n",
        "    return y"
      ],
      "execution_count": 11,
      "outputs": []
    },
    {
      "cell_type": "code",
      "source": [
        "# Plot the two activation functions with x from -10 to 10\n",
        "# <hint>some useful funtions in plt: plot, subplot, xlabel, ylebel, grid, figsize \n",
        "x_relu=np.arange(-10.0,11.0)\n",
        "y_relu=ReLU(x_relu)\n",
        "\n",
        "x_sigmoid=np.arange(-10.0,11.0)\n",
        "y_sigmoid=sigmoid(x_sigmoid)\n",
        "\n",
        "plt.figure(figsize=(15,3))\n",
        "plt.subplot(121,xlabel=\"x\",ylabel=\"sigmoid(x)\")\n",
        "plt.xlim([-10,10])\n",
        "plt.plot(x_sigmoid, y_sigmoid) \n",
        "plt.grid()\n",
        "plt.subplot(122,xlabel=\"x\",ylabel=\"ReLU(x)\")\n",
        "plt.xlim([-10,10])\n",
        "plt.plot(x_relu, y_relu) \n",
        "plt.grid()\n",
        "plt.show()"
      ],
      "metadata": {
        "colab": {
          "base_uri": "https://localhost:8080/",
          "height": 225
        },
        "id": "L8d5yBazDo9a",
        "outputId": "e57103c7-189d-4e8a-f218-bf4804faee70"
      },
      "execution_count": 12,
      "outputs": [
        {
          "output_type": "display_data",
          "data": {
            "text/plain": [
              "<Figure size 1080x216 with 2 Axes>"
            ],
            "image/png": "[encoded data removed]"
          },
          "metadata": {
            "needs_background": "light"
          }
        }
      ]
    },
    {
      "cell_type": "markdown",
      "metadata": {
        "id": "ueME6wShAWc5"
      },
      "source": [
        "## Single-layer Perceptron with sigmoid(20pt)\n",
        "\n",
        "---\n",
        "maybe you will meet the warning --RuntimeWarning: overflow encountered in exp-- \n",
        "\n",
        "It is because of the calculation with the exponential function.\n",
        "It is OK if you don't solve this problem and the code still works.\n",
        "\n"
      ]
    },
    {
      "cell_type": "code",
      "source": [
        "# Training data\n",
        "# Data setting\n",
        "b = 1\n",
        "x = np.hstack(([row[1:4] for row in arr],np.ones((len(arr),1))))\n",
        "y = [row[0] for row in arr]\n",
        "w = [0.0]*x.shape[1]\n",
        "# Hyperparameter setting\n",
        "alpha = 0.5\n",
        "step = 200\n",
        "\n",
        "# Training data\n",
        "for t in tqdm(range(step)):\n",
        "    y_pred= sigmoid(np.dot(x, w))\n",
        "    w += alpha * np.dot(np.array(y) - y_pred,x)"
      ],
      "metadata": {
        "colab": {
          "base_uri": "https://localhost:8080/",
          "height": 49,
          "referenced_widgets": [
            "aad0906b18ac4d2e8dd8877902e3994f",
            "3913d4c59df240d3b6939a58645676e3",
            "a6c48c1e060b4dfcaa3a3b89a3da6419",
            "a3367b7665384816aa42fc35923429e5",
            "c55f25dd440b41849d76afc21dbfd1c9",
            "bc569fe6f1ae41358037253da02f2345",
            "1ad6cdb330224465aeddc27062d10e0d",
            "09dd1a8a99b44906975453794a5c1765",
            "dcf85efa78504540a00a8466581947a0",
            "88b4a2a399614cbdabc124e1ed978b70",
            "46665731b4c24523838f9f487be2e3c5"
          ]
        },
        "outputId": "ee104a4e-df61-482b-deb7-17101a91ac5a",
        "id": "SVNwrKZySiaN"
      },
      "execution_count": 13,
      "outputs": [
        {
          "output_type": "display_data",
          "data": {
            "text/plain": [
              "  0%|          | 0/200 [00:00<?, ?it/s]"
            ],
            "application/vnd.jupyter.widget-view+json": {
              "version_major": 2,
              "version_minor": 0,
              "model_id": "aad0906b18ac4d2e8dd8877902e3994f"
            }
          },
          "metadata": {}
        }
      ]
    },
    {
      "cell_type": "code",
      "source": [
        "w"
      ],
      "metadata": {
        "colab": {
          "base_uri": "https://localhost:8080/"
        },
        "outputId": "cdfbc75e-0c66-4bf6-a72a-77cca898d390",
        "id": "RqRjS_ReSiaP"
      },
      "execution_count": 14,
      "outputs": [
        {
          "output_type": "execute_result",
          "data": {
            "text/plain": [
              "array([ 251.01098164,  -57.39359318,   15.0187349 , -140.49363251])"
            ]
          },
          "metadata": {},
          "execution_count": 14
        }
      ]
    },
    {
      "cell_type": "code",
      "metadata": {
        "colab": {
          "base_uri": "https://localhost:8080/"
        },
        "outputId": "e67e28ee-a6bb-4d66-af1b-210734e717c7",
        "id": "Gn_LLe0zSiaP"
      },
      "source": [
        "# To see the prediction\n",
        "result=sigmoid(np.dot(x, w))\n",
        "print(result)"
      ],
      "execution_count": 15,
      "outputs": [
        {
          "output_type": "stream",
          "name": "stdout",
          "text": [
            "[1.0, 1.0, 1.0, 1.0, 1.0, 1.0, 1.0, 1.0, 1.0, 1.0, 1.0, 1.0, 1.0, 1.0, 1.0, 1.0, 1.0, 1.0, 0.9999999649598647, 1.0, 1.0, 1.0, 1.0, 0.9999999976007703, 1.0, 0.9920719080599589, 0.013791202053216973, 1.659252317265756e-27, 1.9687547407253414e-52, 9.232167572207147e-96, 7.780804343320589e-71, 1.0954255411199422e-120, 6.557605866177949e-46, 0.013791202053216973, 2.5916609697429866e-64, 1.2153188951408053e-107, 8.955030796024431e-07, 4.329280652292112e-139, 2.2523464310412397e-169, 2.672479446149248e-194, 6.322803707812921e-138, 1.8982613515452637e-144, 5.136826822201419e-164, 2.0301484802695055e-182, 8.580892807803656e-239, 9.520063915835947e-226, 2.858157588118936e-232, 6.762098552978266e-176, 2.4088346319101592e-207, 4.023875533200638e-282, 1.590293985231233e-300, 1.340288318064723e-275]\n"
          ]
        }
      ]
    },
    {
      "cell_type": "markdown",
      "metadata": {
        "id": "DgH1QktsAB1S"
      },
      "source": [
        "## Single-layer Perceptron with ReLU(20pt)\n",
        "\n",
        "\n"
      ]
    },
    {
      "cell_type": "code",
      "source": [
        "# Training data\n",
        "# Data setting\n",
        "b = 1\n",
        "x = np.hstack(([row[1:4] for row in arr],np.ones((len(arr),1))))\n",
        "y = [row[0] for row in arr]\n",
        "w = [0.0]*x.shape[1]\n",
        "# Hyperparameter setting\n",
        "alpha = 0.5\n",
        "step = 200\n",
        "\n",
        "# Training data\n",
        "for t in tqdm(range(step)):\n",
        "    y_pred= ReLU(np.dot(x, w))\n",
        "    w += alpha * np.dot(np.array(y) - y_pred,x)"
      ],
      "metadata": {
        "colab": {
          "base_uri": "https://localhost:8080/",
          "height": 49,
          "referenced_widgets": [
            "830e7de7f7674f59bcd1cf96de9ec306",
            "3ae1b59db7d3460aa8baca0d023437e6",
            "06fa2ee841104400b97bab41523a30d8",
            "a88045b03b9f4db9b0e73a61b684931c",
            "add2a505edca4d2c8d7d1ced0d685231",
            "4986fe882e624709abcf1a5c316fc2d1",
            "590cdb9377c0479bb5396adfdc07b277",
            "f43077b658ad4ab7bbe1aa727ea30038",
            "efb619f7a3804169b2eee41ec087de68",
            "a44c05740a56493eba885fb5290f4b14",
            "03a63459756b4a2bbcb645a7e2f86db0"
          ]
        },
        "outputId": "34ca3187-89a5-4cf6-a792-5a2ce2e2dedd",
        "id": "hLlHwA19UuBu"
      },
      "execution_count": 16,
      "outputs": [
        {
          "output_type": "display_data",
          "data": {
            "text/plain": [
              "  0%|          | 0/200 [00:00<?, ?it/s]"
            ],
            "application/vnd.jupyter.widget-view+json": {
              "version_major": 2,
              "version_minor": 0,
              "model_id": "830e7de7f7674f59bcd1cf96de9ec306"
            }
          },
          "metadata": {}
        }
      ]
    },
    {
      "cell_type": "code",
      "source": [
        "w"
      ],
      "metadata": {
        "colab": {
          "base_uri": "https://localhost:8080/"
        },
        "outputId": "8256d53c-108d-4140-aaa5-34fae7ba9d2a",
        "id": "19UHweY6UuBv"
      },
      "execution_count": 17,
      "outputs": [
        {
          "output_type": "execute_result",
          "data": {
            "text/plain": [
              "array([-104291.5 , -417247.75, -191095.25,  -37176.25])"
            ]
          },
          "metadata": {},
          "execution_count": 17
        }
      ]
    },
    {
      "cell_type": "code",
      "metadata": {
        "colab": {
          "base_uri": "https://localhost:8080/"
        },
        "outputId": "65b7a562-f6ae-4b85-cdcc-1c378a64fba7",
        "id": "jUt24-xoUuBw"
      },
      "source": [
        "# To see the prediction\n",
        "result=ReLU(np.dot(x, w))\n",
        "print(result)"
      ],
      "execution_count": 18,
      "outputs": [
        {
          "output_type": "stream",
          "name": "stdout",
          "text": [
            "[0. 0. 0. 0. 0. 0. 0. 0. 0. 0. 0. 0. 0. 0. 0. 0. 0. 0. 0. 0. 0. 0. 0. 0.\n",
            " 0. 0. 0. 0. 0. 0. 0. 0. 0. 0. 0. 0. 0. 0. 0. 0. 0. 0. 0. 0. 0. 0. 0. 0.\n",
            " 0. 0. 0. 0.]\n"
          ]
        }
      ]
    },
    {
      "cell_type": "markdown",
      "metadata": {
        "id": "F7MqvDP16cLb"
      },
      "source": [
        "## Bouns part (10pt)\n",
        "Adjust the hyperparameter to let the model with ReLU function to get a better result."
      ]
    },
    {
      "cell_type": "code",
      "source": [
        "# Training data\n",
        "# Data setting\n",
        "b = 1\n",
        "x = np.hstack(([row[1:4] for row in arr],np.ones((len(arr),1))))\n",
        "y = [row[0] for row in arr]\n",
        "w = [0.0]*x.shape[1]\n",
        "# Hyperparameter setting\n",
        "alpha = 0.05\n",
        "step = 199\n",
        "\n",
        "for t in tqdm(range(step)):\n",
        "    y_pred= ReLU(np.dot(x, w))\n",
        "    w += alpha * np.dot(np.array(y) - y_pred,x)\n",
        "      \n",
        "# To see the prediction\n",
        "result=ReLU(np.dot(x, w))\n",
        "print(alpha,step,result)\n"
      ],
      "metadata": {
        "colab": {
          "base_uri": "https://localhost:8080/",
          "height": 100,
          "referenced_widgets": [
            "79d01b3904ec404e98a32bc1d654dbff",
            "73edbe28c15840bd9c37f01f8c2ed942",
            "038019addf2548ef8019f151c679c868",
            "e7effd3020464c11b9413ac891ba37ae",
            "3e9a73ca7fd9449ca4478e6baa985d10",
            "f0abdbf4835e421ea27624f00d1e9730",
            "5f54dc291e98416089b945a1405d9bb6",
            "8b5a7073263f439398848dd89565e0ef",
            "46364d1243b1475bb663c60895cf19b9",
            "b27f323ca53d46228eedb617530e1507",
            "c8f8b77c834a4755bf6083cacc421dcc"
          ]
        },
        "id": "x5Gt_93Ens1w",
        "outputId": "8bb3b5ec-561d-4167-d19b-c5e94c981cfe"
      },
      "execution_count": 49,
      "outputs": [
        {
          "output_type": "display_data",
          "data": {
            "text/plain": [
              "  0%|          | 0/199 [00:00<?, ?it/s]"
            ],
            "application/vnd.jupyter.widget-view+json": {
              "version_major": 2,
              "version_minor": 0,
              "model_id": "79d01b3904ec404e98a32bc1d654dbff"
            }
          },
          "metadata": {}
        },
        {
          "output_type": "stream",
          "name": "stdout",
          "text": [
            "0.05 199 [0. 0. 0. 0. 0. 0. 0. 0. 0. 0. 0. 0. 0. 0. 0. 0. 0. 0. 0. 0. 0. 0. 0. 0.\n",
            " 0. 0. 0. 0. 0. 0. 0. 0. 0. 0. 0. 0. 0. 0. 0. 0. 0. 0. 0. 0. 0. 0. 0. 0.\n",
            " 0. 0. 0. 0.]\n"
          ]
        }
      ]
    },
    {
      "cell_type": "markdown",
      "source": [
        ""
      ],
      "metadata": {
        "id": "IpRxz48Jnsq6"
      }
    },
    {
      "cell_type": "code",
      "source": [
        "# Training data\n",
        "# Data setting\n",
        "b = 1\n",
        "x = np.hstack(([row[1:4] for row in arr],np.ones((len(arr),1))))\n",
        "y = [row[0] for row in arr]\n",
        "w = [0.0]*x.shape[1]\n",
        "# Hyperparameter setting\n",
        "alpha = 0.001\n",
        "step = 200\n",
        "\n",
        "for t in tqdm(range(step)):\n",
        "    y_pred= ReLU(np.dot(x, w))\n",
        "    w += alpha * np.dot(np.array(y) - y_pred,x)\n",
        "      \n",
        "# To see the prediction\n",
        "result=ReLU(np.dot(x, w))\n",
        "print(alpha,step,result)\n"
      ],
      "metadata": {
        "colab": {
          "base_uri": "https://localhost:8080/",
          "height": 202,
          "referenced_widgets": [
            "c90b6295e8894c20a7133caec1ea9b3e",
            "819ddd8bdbb841dda6f74a44ce44fe04",
            "2f94c8e23479401ab38c27c59d67314f",
            "ee43ff3495af49e3b3cf35ea4c9ada36",
            "a3e12d8109ff444783a10cd8b6710eaf",
            "95f0b760c5ce4beaaa499c3046b7e601",
            "87bc02640632447f8d2a6942dd036728",
            "fcbe2bb290a14b11bba265129845b33b",
            "180a4611775040988ec99b61bf3727c9",
            "58a2c710948243df926d3c1b271e0e50",
            "cf9cc40c2cef4442ae435320e6529791"
          ]
        },
        "id": "DAH8WfEPbWeK",
        "outputId": "f839e1ff-cd26-4321-af08-4f9bd314082a"
      },
      "execution_count": 97,
      "outputs": [
        {
          "output_type": "display_data",
          "data": {
            "text/plain": [
              "  0%|          | 0/200 [00:00<?, ?it/s]"
            ],
            "application/vnd.jupyter.widget-view+json": {
              "version_major": 2,
              "version_minor": 0,
              "model_id": "c90b6295e8894c20a7133caec1ea9b3e"
            }
          },
          "metadata": {}
        },
        {
          "output_type": "stream",
          "name": "stdout",
          "text": [
            "0.001 200 [1.2909661  2.20754105 2.35822719 2.34284089 2.0722412  2.22292734\n",
            " 2.37361348 1.41087965 1.92155507 2.09259051 2.04146862 1.90616877\n",
            " 1.89078248 2.05685491 0.95882124 1.84258875 2.40934908 0.99480546\n",
            " 0.8081351  2.02404747 0.83890768 1.87336134 0.98959382 0.71899413\n",
            " 1.73284985 0.70360784 0.57848265 0.42779651 0.27711037 0.\n",
            " 0.14181053 0.         0.29249666 0.57848265 0.15719682 0.\n",
            " 0.38481442 0.         0.         0.         0.         0.\n",
            " 0.         0.         0.         0.         0.         0.\n",
            " 0.         0.         0.         0.        ]\n"
          ]
        }
      ]
    }
  ]
}